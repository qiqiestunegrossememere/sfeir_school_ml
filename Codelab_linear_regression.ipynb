{
 "cells": [
  {
   "cell_type": "markdown",
   "metadata": {},
   "source": [
    "Linear Regression\n",
    "=============\n",
    "\n",
    "Assignment 1\n",
    "------------\n",
    "\n",
    "The objective of this assignment is to learn how to apply a linear regression algorithm on the iris data set.\n",
    "\n",
    "This notebook uses the [iris](https://archive.ics.uci.edu/ml/datasets/Iris) dataset to be used with python experiments. This is perhaps the best known database to be found in the pattern recognition literature. Fisher's paper is a classic in the field and is referenced frequently to this day. (See Duda & Hart, for example.) The data set contains 3 classes of 50 instances each, where each class refers to a type of iris plant. One class is linearly separable from the other 2; the latter are NOT linearly separable from each other. "
   ]
  },
  {
   "cell_type": "markdown",
   "metadata": {},
   "source": [
    "The rows being the samples and the columns being: Sepal Length, Sepal Width, Petal Length and Petal Width.\n",
    "First we would like to load this data set and visulasation the distribution using the two first two features."
   ]
  },
  {
   "cell_type": "code",
   "execution_count": 5,
   "metadata": {},
   "outputs": [
    {
     "name": "stdout",
     "output_type": "stream",
     "text": [
      "['target_names', 'data', 'target', 'DESCR', 'feature_names']\n",
      "['setosa' 'versicolor' 'virginica']\n"
     ]
    },
    {
     "data": {
      "text/plain": [
       "([], <a list of 0 Text yticklabel objects>)"
      ]
     },
     "execution_count": 5,
     "metadata": {},
     "output_type": "execute_result"
    },
    {
     "data": {
      "image/png": "[encoded data removed]",
      "text/plain": [
       "<matplotlib.figure.Figure at 0x1072b40d0>"
      ]
     },
     "metadata": {},
     "output_type": "display_data"
    }
   ],
   "source": [
    "import matplotlib.pyplot as plt\n",
    "from sklearn import datasets\n",
    "import matplotlib.pyplot as plt\n",
    "%matplotlib inline \n",
    "\n",
    "# import some data to play with\n",
    "iris = datasets.load_iris()\n",
    "X = iris.data\n",
    "y = iris.target\n",
    "target_names = iris.target_names\n",
    "print iris.keys()\n",
    "print target_names\n",
    "x_min, x_max = X[:, 0].min() - .5, X[:, 0].max() + .5\n",
    "y_min, y_max = X[:, 2].min() - .5, X[:, 2].max() + .5\n",
    "\n",
    "plt.figure(2, figsize=(8, 6))\n",
    "plt.clf()\n",
    "\n",
    "# Plot the training points\n",
    "plt.scatter(X[:, 0], X[:, 2], c=y, cmap=plt.cm.Paired)\n",
    "plt.xlabel(iris.feature_names[0])\n",
    "plt.ylabel(iris.feature_names[2])\n",
    "\n",
    "plt.xlim(x_min, x_max)\n",
    "plt.ylim(y_min, y_max)\n",
    "plt.xticks(())\n",
    "plt.yticks(())\n"
   ]
  },
  {
   "cell_type": "markdown",
   "metadata": {},
   "source": [
    "In this assignment, we would like to predict the length of petal by using the length of sepal. In this case, the \"sepal length\" is the input value and the \"petal length\" is the target value. In order to apply the Machine Learning algotirthm in the h2o, first we need to import the H2o library and initialization the H2o flow. See the installation document, if the \"h2o\" is not installed in Python."
   ]
  },
  {
   "cell_type": "code",
   "execution_count": 6,
   "metadata": {},
   "outputs": [
    {
     "name": "stdout",
     "output_type": "stream",
     "text": [
      "Help on function init in module h2o.h2o:\n",
      "\n",
      "init(url=None, ip=None, port=None, https=None, insecure=False, username=None, password=None, cluster_name=None, proxy=None, start_h2o=True, nthreads=-1, ice_root=None, enable_assertions=True, max_mem_size=None, min_mem_size=None, strict_version_check=True, **kwargs)\n",
      "    Attempt to connect to a local server, or if not successful start a new server and connect to it.\n",
      "    \n",
      "    :param url:\n",
      "    :param ip:\n",
      "    :param port:\n",
      "    :param https:\n",
      "    :param insecure:\n",
      "    :param username:\n",
      "    :param password:\n",
      "    :param cluster_name:\n",
      "    :param proxy:\n",
      "    :param start_h2o:\n",
      "    :param nthreads:\n",
      "    :param ice_root:\n",
      "    :param enable_assertions:\n",
      "    :param max_mem_size:\n",
      "    :param min_mem_size:\n",
      "    :param strict_version_check:\n",
      "    :param kwargs: (all other deprecated attributes)\n",
      "    :returns: nothing\n",
      "\n"
     ]
    }
   ],
   "source": [
    "import h2o\n",
    "#Use help to get the details of the using function\n",
    "help(h2o.init)"
   ]
  },
  {
   "cell_type": "code",
   "execution_count": 7,
   "metadata": {},
   "outputs": [
    {
     "name": "stdout",
     "output_type": "stream",
     "text": [
      "Checking whether there is an H2O instance running at http://localhost:54321. connected.\n"
     ]
    }
   ],
   "source": [
    "h2o.init()"
   ]
  },
  {
   "cell_type": "markdown",
   "metadata": {},
   "source": [
    "If everything works, an H2o instance will be lanunch at http://localhost:54321. By taping this adress in your web browser, we can observe that the H2o Web UI is in place. We can directly develop the ML algorithm by using the Web UI. But for this assignment, we use the H2o's API for python.\n",
    "![title](./h2o_flow.png)"
   ]
  },
  {
   "cell_type": "markdown",
   "metadata": {},
   "source": [
    "This demo is provided by H2o, you can also entre \"h2o.demo(\"glm\")\" to run this demo in your console. The demo is for a classification problem, but the principale remains the same. "
   ]
  },
  {
   "cell_type": "code",
   "execution_count": 8,
   "metadata": {},
   "outputs": [
    {
     "name": "stdout",
     "output_type": "stream",
     "text": [
      "Parse progress: |█████████████████████████████████████████████████████████████████████████████| 100%\n"
     ]
    }
   ],
   "source": [
    "# Upload the prostate dataset\n",
    "prostate =  h2o.import_file(path=\"https://h2o-public-test-data.s3.amazonaws.com/smalldata/logreg/prostate.csv\")"
   ]
  },
  {
   "cell_type": "code",
   "execution_count": 9,
   "metadata": {},
   "outputs": [
    {
     "data": {
      "text/html": [
       "<table>\n",
       "<tr><th>       </th><th>ID           </th><th>CAPSULE       </th><th>AGE          </th><th>RACE          </th><th>DPROS        </th><th>DCAPS         </th><th>PSA          </th><th>VOL          </th><th>GLEASON      </th></tr>\n",
       "<tr><td>type   </td><td>int          </td><td>int           </td><td>int          </td><td>int           </td><td>int          </td><td>int           </td><td>real         </td><td>real         </td><td>int          </td></tr>\n",
       "<tr><td>mins   </td><td>1.0          </td><td>0.0           </td><td>43.0         </td><td>0.0           </td><td>1.0          </td><td>1.0           </td><td>0.3          </td><td>0.0          </td><td>0.0          </td></tr>\n",
       "<tr><td>mean   </td><td>190.5        </td><td>0.402631578947</td><td>66.0394736842</td><td>1.08684210526 </td><td>2.27105263158</td><td>1.10789473684 </td><td>15.4086315789</td><td>15.8129210526</td><td>6.38421052632</td></tr>\n",
       "<tr><td>maxs   </td><td>380.0        </td><td>1.0           </td><td>79.0         </td><td>2.0           </td><td>4.0          </td><td>2.0           </td><td>139.7        </td><td>97.6         </td><td>9.0          </td></tr>\n",
       "<tr><td>sigma  </td><td>109.840793879</td><td>0.491074338963</td><td>6.52707126917</td><td>0.308773258025</td><td>1.00010761815</td><td>0.310656449351</td><td>19.9975726686</td><td>18.3476199673</td><td>1.09195337443</td></tr>\n",
       "<tr><td>zeros  </td><td>0            </td><td>227           </td><td>0            </td><td>3             </td><td>0            </td><td>0             </td><td>0            </td><td>167          </td><td>2            </td></tr>\n",
       "<tr><td>missing</td><td>0            </td><td>0             </td><td>0            </td><td>0             </td><td>0            </td><td>0             </td><td>0            </td><td>0            </td><td>0            </td></tr>\n",
       "<tr><td>0      </td><td>1.0          </td><td>0.0           </td><td>65.0         </td><td>1.0           </td><td>2.0          </td><td>1.0           </td><td>1.4          </td><td>0.0          </td><td>6.0          </td></tr>\n",
       "<tr><td>1      </td><td>2.0          </td><td>0.0           </td><td>72.0         </td><td>1.0           </td><td>3.0          </td><td>2.0           </td><td>6.7          </td><td>0.0          </td><td>7.0          </td></tr>\n",
       "<tr><td>2      </td><td>3.0          </td><td>0.0           </td><td>70.0         </td><td>1.0           </td><td>1.0          </td><td>2.0           </td><td>4.9          </td><td>0.0          </td><td>6.0          </td></tr>\n",
       "<tr><td>3      </td><td>4.0          </td><td>0.0           </td><td>76.0         </td><td>2.0           </td><td>2.0          </td><td>1.0           </td><td>51.2         </td><td>20.0         </td><td>7.0          </td></tr>\n",
       "<tr><td>4      </td><td>5.0          </td><td>0.0           </td><td>69.0         </td><td>1.0           </td><td>1.0          </td><td>1.0           </td><td>12.3         </td><td>55.9         </td><td>6.0          </td></tr>\n",
       "<tr><td>5      </td><td>6.0          </td><td>1.0           </td><td>71.0         </td><td>1.0           </td><td>3.0          </td><td>2.0           </td><td>3.3          </td><td>0.0          </td><td>8.0          </td></tr>\n",
       "<tr><td>6      </td><td>7.0          </td><td>0.0           </td><td>68.0         </td><td>2.0           </td><td>4.0          </td><td>2.0           </td><td>31.9         </td><td>0.0          </td><td>7.0          </td></tr>\n",
       "<tr><td>7      </td><td>8.0          </td><td>0.0           </td><td>61.0         </td><td>2.0           </td><td>4.0          </td><td>2.0           </td><td>66.7         </td><td>27.2         </td><td>7.0          </td></tr>\n",
       "<tr><td>8      </td><td>9.0          </td><td>0.0           </td><td>69.0         </td><td>1.0           </td><td>1.0          </td><td>1.0           </td><td>3.9          </td><td>24.0         </td><td>7.0          </td></tr>\n",
       "<tr><td>9      </td><td>10.0         </td><td>0.0           </td><td>68.0         </td><td>2.0           </td><td>1.0          </td><td>2.0           </td><td>13.0         </td><td>0.0          </td><td>6.0          </td></tr>\n",
       "</table>"
      ]
     },
     "metadata": {},
     "output_type": "display_data"
    }
   ],
   "source": [
    "# Print a description of the prostate data\n",
    "prostate.summary()"
   ]
  },
  {
   "cell_type": "code",
   "execution_count": 10,
   "metadata": {},
   "outputs": [],
   "source": [
    "# Randomly split the dataset into ~70/30, training/test sets\n",
    "r = prostate[0].runif()\n",
    "train = prostate[r < 0.70]\n",
    "test = prostate[r >= 0.70]"
   ]
  },
  {
   "cell_type": "code",
   "execution_count": 11,
   "metadata": {},
   "outputs": [],
   "source": [
    "# Convert the response columns to factors (for binary classification problems)\n",
    "train[\"CAPSULE\"] = train[\"CAPSULE\"].asfactor()\n",
    "test[\"CAPSULE\"] = test[\"CAPSULE\"].asfactor()\n"
   ]
  },
  {
   "cell_type": "code",
   "execution_count": 12,
   "metadata": {},
   "outputs": [
    {
     "name": "stdout",
     "output_type": "stream",
     "text": [
      "glm Model Build progress: |███████████████████████████████████████████████████████████████████| 100%\n"
     ]
    }
   ],
   "source": [
    "# Build a (classification) GLM\n",
    "from h2o.estimators import H2OGeneralizedLinearEstimator\n",
    "prostate_glm = H2OGeneralizedLinearEstimator(family=\"binomial\", alpha=[0.5])\n",
    "prostate_glm.train(x=[\"AGE\", \"RACE\", \"PSA\", \"VOL\", \"GLEASON\"],y=\"CAPSULE\", training_frame=train)"
   ]
  },
  {
   "cell_type": "code",
   "execution_count": 13,
   "metadata": {},
   "outputs": [
    {
     "name": "stdout",
     "output_type": "stream",
     "text": [
      "Model Details\n",
      "=============\n",
      "H2OGeneralizedLinearEstimator :  Generalized Linear Modeling\n",
      "Model Key:  GLM_model_python_1473863160481_1\n",
      "GLM Model: summary\n",
      "\n"
     ]
    },
    {
     "data": {
      "text/html": [
       "<div style=\"overflow:auto\"><table style=\"width:50%\"><tr><td><b></b></td>\n",
       "<td><b>family</b></td>\n",
       "<td><b>link</b></td>\n",
       "<td><b>regularization</b></td>\n",
       "<td><b>number_of_predictors_total</b></td>\n",
       "<td><b>number_of_active_predictors</b></td>\n",
       "<td><b>number_of_iterations</b></td>\n",
       "<td><b>training_frame</b></td></tr>\n",
       "<tr><td></td>\n",
       "<td>binomial</td>\n",
       "<td>logit</td>\n",
       "<td>Elastic Net (alpha = 0.5, lambda = 4.568E-4 )</td>\n",
       "<td>5</td>\n",
       "<td>5</td>\n",
       "<td>4</td>\n",
       "<td>py_4_sid_9b2d</td></tr></table></div>"
      ],
      "text/plain": [
       "    family    link    regularization                                 number_of_predictors_total    number_of_active_predictors    number_of_iterations    training_frame\n",
       "--  --------  ------  ---------------------------------------------  ----------------------------  -----------------------------  ----------------------  ----------------\n",
       "    binomial  logit   Elastic Net (alpha = 0.5, lambda = 4.568E-4 )  5                             5                              4                       py_4_sid_9b2d"
      ]
     },
     "metadata": {},
     "output_type": "display_data"
    },
    {
     "name": "stdout",
     "output_type": "stream",
     "text": [
      "\n",
      "\n",
      "ModelMetricsBinomialGLM: glm\n",
      "** Reported on train data. **\n",
      "\n",
      "MSE: 0.169958131122\n",
      "RMSE: 0.412259785962\n",
      "LogLoss: 0.509714211113\n",
      "Null degrees of freedom: 271\n",
      "Residual degrees of freedom: 266\n",
      "Null deviance: 362.814717185\n",
      "Residual deviance: 277.284530845\n",
      "AIC: 289.284530845\n",
      "AUC: 0.806900484745\n",
      "Gini: 0.61380096949\n",
      "Confusion Matrix (Act/Pred) for max f1 @ threshold = 0.259956270067: \n"
     ]
    },
    {
     "data": {
      "text/html": [
       "<div style=\"overflow:auto\"><table style=\"width:50%\"><tr><td><b></b></td>\n",
       "<td><b>0</b></td>\n",
       "<td><b>1</b></td>\n",
       "<td><b>Error</b></td>\n",
       "<td><b>Rate</b></td></tr>\n",
       "<tr><td>0</td>\n",
       "<td>101.0</td>\n",
       "<td>66.0</td>\n",
       "<td>0.3952</td>\n",
       "<td> (66.0/167.0)</td></tr>\n",
       "<tr><td>1</td>\n",
       "<td>14.0</td>\n",
       "<td>91.0</td>\n",
       "<td>0.1333</td>\n",
       "<td> (14.0/105.0)</td></tr>\n",
       "<tr><td>Total</td>\n",
       "<td>115.0</td>\n",
       "<td>157.0</td>\n",
       "<td>0.2941</td>\n",
       "<td> (80.0/272.0)</td></tr></table></div>"
      ],
      "text/plain": [
       "       0    1    Error    Rate\n",
       "-----  ---  ---  -------  ------------\n",
       "0      101  66   0.3952   (66.0/167.0)\n",
       "1      14   91   0.1333   (14.0/105.0)\n",
       "Total  115  157  0.2941   (80.0/272.0)"
      ]
     },
     "metadata": {},
     "output_type": "display_data"
    },
    {
     "name": "stdout",
     "output_type": "stream",
     "text": [
      "Maximum Metrics: Maximum metrics at their respective thresholds\n",
      "\n"
     ]
    },
    {
     "data": {
      "text/html": [
       "<div style=\"overflow:auto\"><table style=\"width:50%\"><tr><td><b>metric</b></td>\n",
       "<td><b>threshold</b></td>\n",
       "<td><b>value</b></td>\n",
       "<td><b>idx</b></td></tr>\n",
       "<tr><td>max f1</td>\n",
       "<td>0.2599563</td>\n",
       "<td>0.6946565</td>\n",
       "<td>155.0</td></tr>\n",
       "<tr><td>max f2</td>\n",
       "<td>0.1561095</td>\n",
       "<td>0.7898894</td>\n",
       "<td>211.0</td></tr>\n",
       "<tr><td>max f0point5</td>\n",
       "<td>0.5222905</td>\n",
       "<td>0.7093822</td>\n",
       "<td>81.0</td></tr>\n",
       "<tr><td>max accuracy</td>\n",
       "<td>0.4654549</td>\n",
       "<td>0.7683824</td>\n",
       "<td>98.0</td></tr>\n",
       "<tr><td>max precision</td>\n",
       "<td>0.9740674</td>\n",
       "<td>1.0</td>\n",
       "<td>0.0</td></tr>\n",
       "<tr><td>max recall</td>\n",
       "<td>0.0787324</td>\n",
       "<td>1.0</td>\n",
       "<td>251.0</td></tr>\n",
       "<tr><td>max specificity</td>\n",
       "<td>0.9740674</td>\n",
       "<td>1.0</td>\n",
       "<td>0.0</td></tr>\n",
       "<tr><td>max absolute_mcc</td>\n",
       "<td>0.4654549</td>\n",
       "<td>0.5074081</td>\n",
       "<td>98.0</td></tr>\n",
       "<tr><td>max min_per_class_accuracy</td>\n",
       "<td>0.3788144</td>\n",
       "<td>0.7305389</td>\n",
       "<td>120.0</td></tr>\n",
       "<tr><td>max mean_per_class_accuracy</td>\n",
       "<td>0.4654549</td>\n",
       "<td>0.7512689</td>\n",
       "<td>98.0</td></tr></table></div>"
      ],
      "text/plain": [
       "metric                       threshold    value     idx\n",
       "---------------------------  -----------  --------  -----\n",
       "max f1                       0.259956     0.694656  155\n",
       "max f2                       0.156109     0.789889  211\n",
       "max f0point5                 0.52229      0.709382  81\n",
       "max accuracy                 0.465455     0.768382  98\n",
       "max precision                0.974067     1         0\n",
       "max recall                   0.0787324    1         251\n",
       "max specificity              0.974067     1         0\n",
       "max absolute_mcc             0.465455     0.507408  98\n",
       "max min_per_class_accuracy   0.378814     0.730539  120\n",
       "max mean_per_class_accuracy  0.465455     0.751269  98"
      ]
     },
     "metadata": {},
     "output_type": "display_data"
    },
    {
     "name": "stdout",
     "output_type": "stream",
     "text": [
      "Gains/Lift Table: Avg response rate: 38.60 %\n",
      "\n"
     ]
    },
    {
     "data": {
      "text/html": [
       "<div style=\"overflow:auto\"><table style=\"width:50%\"><tr><td><b></b></td>\n",
       "<td><b>group</b></td>\n",
       "<td><b>cumulative_data_fraction</b></td>\n",
       "<td><b>lower_threshold</b></td>\n",
       "<td><b>lift</b></td>\n",
       "<td><b>cumulative_lift</b></td>\n",
       "<td><b>response_rate</b></td>\n",
       "<td><b>cumulative_response_rate</b></td>\n",
       "<td><b>capture_rate</b></td>\n",
       "<td><b>cumulative_capture_rate</b></td>\n",
       "<td><b>gain</b></td>\n",
       "<td><b>cumulative_gain</b></td></tr>\n",
       "<tr><td></td>\n",
       "<td>1</td>\n",
       "<td>0.0110294</td>\n",
       "<td>0.9701192</td>\n",
       "<td>2.5904762</td>\n",
       "<td>2.5904762</td>\n",
       "<td>1.0</td>\n",
       "<td>1.0</td>\n",
       "<td>0.0285714</td>\n",
       "<td>0.0285714</td>\n",
       "<td>159.0476190</td>\n",
       "<td>159.0476190</td></tr>\n",
       "<tr><td></td>\n",
       "<td>2</td>\n",
       "<td>0.0220588</td>\n",
       "<td>0.9584342</td>\n",
       "<td>2.5904762</td>\n",
       "<td>2.5904762</td>\n",
       "<td>1.0</td>\n",
       "<td>1.0</td>\n",
       "<td>0.0285714</td>\n",
       "<td>0.0571429</td>\n",
       "<td>159.0476190</td>\n",
       "<td>159.0476190</td></tr>\n",
       "<tr><td></td>\n",
       "<td>3</td>\n",
       "<td>0.0330882</td>\n",
       "<td>0.9420198</td>\n",
       "<td>2.5904762</td>\n",
       "<td>2.5904762</td>\n",
       "<td>1.0</td>\n",
       "<td>1.0</td>\n",
       "<td>0.0285714</td>\n",
       "<td>0.0857143</td>\n",
       "<td>159.0476190</td>\n",
       "<td>159.0476190</td></tr>\n",
       "<tr><td></td>\n",
       "<td>4</td>\n",
       "<td>0.0404412</td>\n",
       "<td>0.9175647</td>\n",
       "<td>2.5904762</td>\n",
       "<td>2.5904762</td>\n",
       "<td>1.0</td>\n",
       "<td>1.0</td>\n",
       "<td>0.0190476</td>\n",
       "<td>0.1047619</td>\n",
       "<td>159.0476190</td>\n",
       "<td>159.0476190</td></tr>\n",
       "<tr><td></td>\n",
       "<td>5</td>\n",
       "<td>0.0514706</td>\n",
       "<td>0.9095522</td>\n",
       "<td>2.5904762</td>\n",
       "<td>2.5904762</td>\n",
       "<td>1.0</td>\n",
       "<td>1.0</td>\n",
       "<td>0.0285714</td>\n",
       "<td>0.1333333</td>\n",
       "<td>159.0476190</td>\n",
       "<td>159.0476190</td></tr>\n",
       "<tr><td></td>\n",
       "<td>6</td>\n",
       "<td>0.1029412</td>\n",
       "<td>0.8000035</td>\n",
       "<td>2.2204082</td>\n",
       "<td>2.4054422</td>\n",
       "<td>0.8571429</td>\n",
       "<td>0.9285714</td>\n",
       "<td>0.1142857</td>\n",
       "<td>0.2476190</td>\n",
       "<td>122.0408163</td>\n",
       "<td>140.5442177</td></tr>\n",
       "<tr><td></td>\n",
       "<td>7</td>\n",
       "<td>0.1507353</td>\n",
       "<td>0.6610781</td>\n",
       "<td>1.5941392</td>\n",
       "<td>2.1481998</td>\n",
       "<td>0.6153846</td>\n",
       "<td>0.8292683</td>\n",
       "<td>0.0761905</td>\n",
       "<td>0.3238095</td>\n",
       "<td>59.4139194</td>\n",
       "<td>114.8199768</td></tr>\n",
       "<tr><td></td>\n",
       "<td>8</td>\n",
       "<td>0.2022059</td>\n",
       "<td>0.5992124</td>\n",
       "<td>1.2952381</td>\n",
       "<td>1.9310823</td>\n",
       "<td>0.5</td>\n",
       "<td>0.7454545</td>\n",
       "<td>0.0666667</td>\n",
       "<td>0.3904762</td>\n",
       "<td>29.5238095</td>\n",
       "<td>93.1082251</td></tr>\n",
       "<tr><td></td>\n",
       "<td>9</td>\n",
       "<td>0.3014706</td>\n",
       "<td>0.5284014</td>\n",
       "<td>1.9188713</td>\n",
       "<td>1.9270616</td>\n",
       "<td>0.7407407</td>\n",
       "<td>0.7439024</td>\n",
       "<td>0.1904762</td>\n",
       "<td>0.5809524</td>\n",
       "<td>91.8871252</td>\n",
       "<td>92.7061556</td></tr>\n",
       "<tr><td></td>\n",
       "<td>10</td>\n",
       "<td>0.4007353</td>\n",
       "<td>0.4307599</td>\n",
       "<td>1.0553792</td>\n",
       "<td>1.7111402</td>\n",
       "<td>0.4074074</td>\n",
       "<td>0.6605505</td>\n",
       "<td>0.1047619</td>\n",
       "<td>0.6857143</td>\n",
       "<td>5.5379189</td>\n",
       "<td>71.1140236</td></tr>\n",
       "<tr><td></td>\n",
       "<td>11</td>\n",
       "<td>0.5</td>\n",
       "<td>0.3102846</td>\n",
       "<td>0.9594356</td>\n",
       "<td>1.5619048</td>\n",
       "<td>0.3703704</td>\n",
       "<td>0.6029412</td>\n",
       "<td>0.0952381</td>\n",
       "<td>0.7809524</td>\n",
       "<td>-4.0564374</td>\n",
       "<td>56.1904762</td></tr>\n",
       "<tr><td></td>\n",
       "<td>12</td>\n",
       "<td>0.5992647</td>\n",
       "<td>0.2507280</td>\n",
       "<td>0.9594356</td>\n",
       "<td>1.4621093</td>\n",
       "<td>0.3703704</td>\n",
       "<td>0.5644172</td>\n",
       "<td>0.0952381</td>\n",
       "<td>0.8761905</td>\n",
       "<td>-4.0564374</td>\n",
       "<td>46.2109261</td></tr>\n",
       "<tr><td></td>\n",
       "<td>13</td>\n",
       "<td>0.6985294</td>\n",
       "<td>0.2041036</td>\n",
       "<td>0.1918871</td>\n",
       "<td>1.2816040</td>\n",
       "<td>0.0740741</td>\n",
       "<td>0.4947368</td>\n",
       "<td>0.0190476</td>\n",
       "<td>0.8952381</td>\n",
       "<td>-80.8112875</td>\n",
       "<td>28.1604010</td></tr>\n",
       "<tr><td></td>\n",
       "<td>14</td>\n",
       "<td>0.7977941</td>\n",
       "<td>0.1457916</td>\n",
       "<td>0.5756614</td>\n",
       "<td>1.1937678</td>\n",
       "<td>0.2222222</td>\n",
       "<td>0.4608295</td>\n",
       "<td>0.0571429</td>\n",
       "<td>0.9523810</td>\n",
       "<td>-42.4338624</td>\n",
       "<td>19.3767830</td></tr>\n",
       "<tr><td></td>\n",
       "<td>15</td>\n",
       "<td>0.8970588</td>\n",
       "<td>0.0862184</td>\n",
       "<td>0.2878307</td>\n",
       "<td>1.0935207</td>\n",
       "<td>0.1111111</td>\n",
       "<td>0.4221311</td>\n",
       "<td>0.0285714</td>\n",
       "<td>0.9809524</td>\n",
       "<td>-71.2169312</td>\n",
       "<td>9.3520687</td></tr>\n",
       "<tr><td></td>\n",
       "<td>16</td>\n",
       "<td>1.0</td>\n",
       "<td>0.0005437</td>\n",
       "<td>0.1850340</td>\n",
       "<td>1.0</td>\n",
       "<td>0.0714286</td>\n",
       "<td>0.3860294</td>\n",
       "<td>0.0190476</td>\n",
       "<td>1.0</td>\n",
       "<td>-81.4965986</td>\n",
       "<td>0.0</td></tr></table></div>"
      ],
      "text/plain": [
       "    group    cumulative_data_fraction    lower_threshold    lift      cumulative_lift    response_rate    cumulative_response_rate    capture_rate    cumulative_capture_rate    gain      cumulative_gain\n",
       "--  -------  --------------------------  -----------------  --------  -----------------  ---------------  --------------------------  --------------  -------------------------  --------  -----------------\n",
       "    1        0.0110294                   0.970119           2.59048   2.59048            1                1                           0.0285714       0.0285714                  159.048   159.048\n",
       "    2        0.0220588                   0.958434           2.59048   2.59048            1                1                           0.0285714       0.0571429                  159.048   159.048\n",
       "    3        0.0330882                   0.94202            2.59048   2.59048            1                1                           0.0285714       0.0857143                  159.048   159.048\n",
       "    4        0.0404412                   0.917565           2.59048   2.59048            1                1                           0.0190476       0.104762                   159.048   159.048\n",
       "    5        0.0514706                   0.909552           2.59048   2.59048            1                1                           0.0285714       0.133333                   159.048   159.048\n",
       "    6        0.102941                    0.800003           2.22041   2.40544            0.857143         0.928571                    0.114286        0.247619                   122.041   140.544\n",
       "    7        0.150735                    0.661078           1.59414   2.1482             0.615385         0.829268                    0.0761905       0.32381                    59.4139   114.82\n",
       "    8        0.202206                    0.599212           1.29524   1.93108            0.5              0.745455                    0.0666667       0.390476                   29.5238   93.1082\n",
       "    9        0.301471                    0.528401           1.91887   1.92706            0.740741         0.743902                    0.190476        0.580952                   91.8871   92.7062\n",
       "    10       0.400735                    0.43076            1.05538   1.71114            0.407407         0.66055                     0.104762        0.685714                   5.53792   71.114\n",
       "    11       0.5                         0.310285           0.959436  1.5619             0.37037          0.602941                    0.0952381       0.780952                   -4.05644  56.1905\n",
       "    12       0.599265                    0.250728           0.959436  1.46211            0.37037          0.564417                    0.0952381       0.87619                    -4.05644  46.2109\n",
       "    13       0.698529                    0.204104           0.191887  1.2816             0.0740741        0.494737                    0.0190476       0.895238                   -80.8113  28.1604\n",
       "    14       0.797794                    0.145792           0.575661  1.19377            0.222222         0.460829                    0.0571429       0.952381                   -42.4339  19.3768\n",
       "    15       0.897059                    0.0862184          0.287831  1.09352            0.111111         0.422131                    0.0285714       0.980952                   -71.2169  9.35207\n",
       "    16       1                           0.000543735        0.185034  1                  0.0714286        0.386029                    0.0190476       1                          -81.4966  0"
      ]
     },
     "metadata": {},
     "output_type": "display_data"
    },
    {
     "name": "stdout",
     "output_type": "stream",
     "text": [
      "\n",
      "Scoring History: \n"
     ]
    },
    {
     "data": {
      "text/html": [
       "<div style=\"overflow:auto\"><table style=\"width:50%\"><tr><td><b></b></td>\n",
       "<td><b>timestamp</b></td>\n",
       "<td><b>duration</b></td>\n",
       "<td><b>iteration</b></td>\n",
       "<td><b>negative_log_likelihood</b></td>\n",
       "<td><b>objective</b></td></tr>\n",
       "<tr><td></td>\n",
       "<td>2016-09-14 16:26:46</td>\n",
       "<td> 0.000 sec</td>\n",
       "<td>0</td>\n",
       "<td>181.4073586</td>\n",
       "<td>0.6669388</td></tr>\n",
       "<tr><td></td>\n",
       "<td>2016-09-14 16:26:46</td>\n",
       "<td> 0.149 sec</td>\n",
       "<td>1</td>\n",
       "<td>141.7261113</td>\n",
       "<td>0.5215234</td></tr>\n",
       "<tr><td></td>\n",
       "<td>2016-09-14 16:26:46</td>\n",
       "<td> 0.206 sec</td>\n",
       "<td>2</td>\n",
       "<td>138.7514854</td>\n",
       "<td>0.5108072</td></tr>\n",
       "<tr><td></td>\n",
       "<td>2016-09-14 16:26:46</td>\n",
       "<td> 0.379 sec</td>\n",
       "<td>3</td>\n",
       "<td>138.6430449</td>\n",
       "<td>0.5104629</td></tr>\n",
       "<tr><td></td>\n",
       "<td>2016-09-14 16:26:46</td>\n",
       "<td> 0.414 sec</td>\n",
       "<td>4</td>\n",
       "<td>138.6422654</td>\n",
       "<td>0.5104623</td></tr></table></div>"
      ],
      "text/plain": [
       "    timestamp            duration    iteration    negative_log_likelihood    objective\n",
       "--  -------------------  ----------  -----------  -------------------------  -----------\n",
       "    2016-09-14 16:26:46  0.000 sec   0            181.407                    0.666939\n",
       "    2016-09-14 16:26:46  0.149 sec   1            141.726                    0.521523\n",
       "    2016-09-14 16:26:46  0.206 sec   2            138.751                    0.510807\n",
       "    2016-09-14 16:26:46  0.379 sec   3            138.643                    0.510463\n",
       "    2016-09-14 16:26:46  0.414 sec   4            138.642                    0.510462"
      ]
     },
     "metadata": {},
     "output_type": "display_data"
    }
   ],
   "source": [
    "# Show the model\n",
    "prostate_glm.show()"
   ]
  },
  {
   "cell_type": "code",
   "execution_count": 14,
   "metadata": {},
   "outputs": [
    {
     "name": "stdout",
     "output_type": "stream",
     "text": [
      "glm prediction progress: |████████████████████████████████████████████████████████████████████| 100%\n"
     ]
    },
    {
     "data": {
      "text/html": [
       "<table>\n",
       "<tr><th style=\"text-align: right;\">  predict</th><th style=\"text-align: right;\">       p0</th><th style=\"text-align: right;\">      p1</th></tr>\n",
       "<tr><td style=\"text-align: right;\">        0</td><td style=\"text-align: right;\">0.748326 </td><td style=\"text-align: right;\">0.251674</td></tr>\n",
       "<tr><td style=\"text-align: right;\">        1</td><td style=\"text-align: right;\">0.483653 </td><td style=\"text-align: right;\">0.516347</td></tr>\n",
       "<tr><td style=\"text-align: right;\">        1</td><td style=\"text-align: right;\">0.66234  </td><td style=\"text-align: right;\">0.33766 </td></tr>\n",
       "<tr><td style=\"text-align: right;\">        1</td><td style=\"text-align: right;\">0.0706839</td><td style=\"text-align: right;\">0.929316</td></tr>\n",
       "<tr><td style=\"text-align: right;\">        1</td><td style=\"text-align: right;\">0.268231 </td><td style=\"text-align: right;\">0.731769</td></tr>\n",
       "<tr><td style=\"text-align: right;\">        1</td><td style=\"text-align: right;\">0.680086 </td><td style=\"text-align: right;\">0.319914</td></tr>\n",
       "<tr><td style=\"text-align: right;\">        1</td><td style=\"text-align: right;\">0.706691 </td><td style=\"text-align: right;\">0.293309</td></tr>\n",
       "<tr><td style=\"text-align: right;\">        0</td><td style=\"text-align: right;\">0.746281 </td><td style=\"text-align: right;\">0.253719</td></tr>\n",
       "<tr><td style=\"text-align: right;\">        1</td><td style=\"text-align: right;\">0.534124 </td><td style=\"text-align: right;\">0.465876</td></tr>\n",
       "<tr><td style=\"text-align: right;\">        0</td><td style=\"text-align: right;\">0.813918 </td><td style=\"text-align: right;\">0.186082</td></tr>\n",
       "</table>"
      ]
     },
     "metadata": {},
     "output_type": "display_data"
    }
   ],
   "source": [
    "# Predict on the test set and show the first ten predictions\n",
    "predictions = prostate_glm.predict(test)\n",
    "predictions.show()\n"
   ]
  },
  {
   "cell_type": "code",
   "execution_count": 15,
   "metadata": {},
   "outputs": [
    {
     "name": "stdout",
     "output_type": "stream",
     "text": [
      "\n",
      "ModelMetricsBinomialGLM: glm\n",
      "** Reported on test data. **\n",
      "\n",
      "MSE: 0.198326712222\n",
      "RMSE: 0.445338873469\n",
      "LogLoss: 0.569896286647\n",
      "Null degrees of freedom: 107\n",
      "Residual degrees of freedom: 102\n",
      "Null deviance: 149.913795215\n",
      "Residual deviance: 123.097597916\n",
      "AIC: 135.097597916\n",
      "AUC: 0.761458333333\n",
      "Gini: 0.522916666667\n",
      "Confusion Matrix (Act/Pred) for max f1 @ threshold = 0.214166807007: \n"
     ]
    },
    {
     "data": {
      "text/html": [
       "<div style=\"overflow:auto\"><table style=\"width:50%\"><tr><td><b></b></td>\n",
       "<td><b>0</b></td>\n",
       "<td><b>1</b></td>\n",
       "<td><b>Error</b></td>\n",
       "<td><b>Rate</b></td></tr>\n",
       "<tr><td>0</td>\n",
       "<td>28.0</td>\n",
       "<td>32.0</td>\n",
       "<td>0.5333</td>\n",
       "<td> (32.0/60.0)</td></tr>\n",
       "<tr><td>1</td>\n",
       "<td>4.0</td>\n",
       "<td>44.0</td>\n",
       "<td>0.0833</td>\n",
       "<td> (4.0/48.0)</td></tr>\n",
       "<tr><td>Total</td>\n",
       "<td>32.0</td>\n",
       "<td>76.0</td>\n",
       "<td>0.3333</td>\n",
       "<td> (36.0/108.0)</td></tr></table></div>"
      ],
      "text/plain": [
       "       0    1    Error    Rate\n",
       "-----  ---  ---  -------  ------------\n",
       "0      28   32   0.5333   (32.0/60.0)\n",
       "1      4    44   0.0833   (4.0/48.0)\n",
       "Total  32   76   0.3333   (36.0/108.0)"
      ]
     },
     "metadata": {},
     "output_type": "display_data"
    },
    {
     "name": "stdout",
     "output_type": "stream",
     "text": [
      "Maximum Metrics: Maximum metrics at their respective thresholds\n",
      "\n"
     ]
    },
    {
     "data": {
      "text/html": [
       "<div style=\"overflow:auto\"><table style=\"width:50%\"><tr><td><b>metric</b></td>\n",
       "<td><b>threshold</b></td>\n",
       "<td><b>value</b></td>\n",
       "<td><b>idx</b></td></tr>\n",
       "<tr><td>max f1</td>\n",
       "<td>0.2141668</td>\n",
       "<td>0.7096774</td>\n",
       "<td>75.0</td></tr>\n",
       "<tr><td>max f2</td>\n",
       "<td>0.1738349</td>\n",
       "<td>0.8333333</td>\n",
       "<td>83.0</td></tr>\n",
       "<tr><td>max f0point5</td>\n",
       "<td>0.5678743</td>\n",
       "<td>0.6640625</td>\n",
       "<td>19.0</td></tr>\n",
       "<tr><td>max accuracy</td>\n",
       "<td>0.4511959</td>\n",
       "<td>0.6944444</td>\n",
       "<td>40.0</td></tr>\n",
       "<tr><td>max precision</td>\n",
       "<td>0.9957221</td>\n",
       "<td>1.0</td>\n",
       "<td>0.0</td></tr>\n",
       "<tr><td>max recall</td>\n",
       "<td>0.0930112</td>\n",
       "<td>1.0</td>\n",
       "<td>96.0</td></tr>\n",
       "<tr><td>max specificity</td>\n",
       "<td>0.9957221</td>\n",
       "<td>1.0</td>\n",
       "<td>0.0</td></tr>\n",
       "<tr><td>max absolute_mcc</td>\n",
       "<td>0.2141668</td>\n",
       "<td>0.4171488</td>\n",
       "<td>75.0</td></tr>\n",
       "<tr><td>max min_per_class_accuracy</td>\n",
       "<td>0.3656544</td>\n",
       "<td>0.6666667</td>\n",
       "<td>50.0</td></tr>\n",
       "<tr><td>max mean_per_class_accuracy</td>\n",
       "<td>0.2728415</td>\n",
       "<td>0.7041667</td>\n",
       "<td>60.0</td></tr></table></div>"
      ],
      "text/plain": [
       "metric                       threshold    value     idx\n",
       "---------------------------  -----------  --------  -----\n",
       "max f1                       0.214167     0.709677  75\n",
       "max f2                       0.173835     0.833333  83\n",
       "max f0point5                 0.567874     0.664062  19\n",
       "max accuracy                 0.451196     0.694444  40\n",
       "max precision                0.995722     1         0\n",
       "max recall                   0.0930112    1         96\n",
       "max specificity              0.995722     1         0\n",
       "max absolute_mcc             0.214167     0.417149  75\n",
       "max min_per_class_accuracy   0.365654     0.666667  50\n",
       "max mean_per_class_accuracy  0.272841     0.704167  60"
      ]
     },
     "metadata": {},
     "output_type": "display_data"
    },
    {
     "name": "stdout",
     "output_type": "stream",
     "text": [
      "Gains/Lift Table: Avg response rate: 44.44 %\n",
      "\n"
     ]
    },
    {
     "data": {
      "text/html": [
       "<div style=\"overflow:auto\"><table style=\"width:50%\"><tr><td><b></b></td>\n",
       "<td><b>group</b></td>\n",
       "<td><b>cumulative_data_fraction</b></td>\n",
       "<td><b>lower_threshold</b></td>\n",
       "<td><b>lift</b></td>\n",
       "<td><b>cumulative_lift</b></td>\n",
       "<td><b>response_rate</b></td>\n",
       "<td><b>cumulative_response_rate</b></td>\n",
       "<td><b>capture_rate</b></td>\n",
       "<td><b>cumulative_capture_rate</b></td>\n",
       "<td><b>gain</b></td>\n",
       "<td><b>cumulative_gain</b></td></tr>\n",
       "<tr><td></td>\n",
       "<td>1</td>\n",
       "<td>0.0185185</td>\n",
       "<td>0.9532189</td>\n",
       "<td>2.25</td>\n",
       "<td>2.25</td>\n",
       "<td>1.0</td>\n",
       "<td>1.0</td>\n",
       "<td>0.0416667</td>\n",
       "<td>0.0416667</td>\n",
       "<td>125.0</td>\n",
       "<td>125.0</td></tr>\n",
       "<tr><td></td>\n",
       "<td>2</td>\n",
       "<td>0.0277778</td>\n",
       "<td>0.9281842</td>\n",
       "<td>2.25</td>\n",
       "<td>2.25</td>\n",
       "<td>1.0</td>\n",
       "<td>1.0</td>\n",
       "<td>0.0208333</td>\n",
       "<td>0.0625</td>\n",
       "<td>125.0</td>\n",
       "<td>125.0</td></tr>\n",
       "<tr><td></td>\n",
       "<td>3</td>\n",
       "<td>0.0370370</td>\n",
       "<td>0.9181928</td>\n",
       "<td>2.25</td>\n",
       "<td>2.25</td>\n",
       "<td>1.0</td>\n",
       "<td>1.0</td>\n",
       "<td>0.0208333</td>\n",
       "<td>0.0833333</td>\n",
       "<td>125.0</td>\n",
       "<td>125.0</td></tr>\n",
       "<tr><td></td>\n",
       "<td>4</td>\n",
       "<td>0.0462963</td>\n",
       "<td>0.9002893</td>\n",
       "<td>2.25</td>\n",
       "<td>2.25</td>\n",
       "<td>1.0</td>\n",
       "<td>1.0</td>\n",
       "<td>0.0208333</td>\n",
       "<td>0.1041667</td>\n",
       "<td>125.0</td>\n",
       "<td>125.0</td></tr>\n",
       "<tr><td></td>\n",
       "<td>5</td>\n",
       "<td>0.0555556</td>\n",
       "<td>0.8831005</td>\n",
       "<td>2.25</td>\n",
       "<td>2.25</td>\n",
       "<td>1.0</td>\n",
       "<td>1.0</td>\n",
       "<td>0.0208333</td>\n",
       "<td>0.125</td>\n",
       "<td>125.0</td>\n",
       "<td>125.0</td></tr>\n",
       "<tr><td></td>\n",
       "<td>6</td>\n",
       "<td>0.1018519</td>\n",
       "<td>0.7493004</td>\n",
       "<td>1.8</td>\n",
       "<td>2.0454545</td>\n",
       "<td>0.8</td>\n",
       "<td>0.9090909</td>\n",
       "<td>0.0833333</td>\n",
       "<td>0.2083333</td>\n",
       "<td>80.0</td>\n",
       "<td>104.5454545</td></tr>\n",
       "<tr><td></td>\n",
       "<td>7</td>\n",
       "<td>0.1574074</td>\n",
       "<td>0.6097791</td>\n",
       "<td>1.5</td>\n",
       "<td>1.8529412</td>\n",
       "<td>0.6666667</td>\n",
       "<td>0.8235294</td>\n",
       "<td>0.0833333</td>\n",
       "<td>0.2916667</td>\n",
       "<td>50.0</td>\n",
       "<td>85.2941176</td></tr>\n",
       "<tr><td></td>\n",
       "<td>8</td>\n",
       "<td>0.2037037</td>\n",
       "<td>0.5579870</td>\n",
       "<td>1.8</td>\n",
       "<td>1.8409091</td>\n",
       "<td>0.8</td>\n",
       "<td>0.8181818</td>\n",
       "<td>0.0833333</td>\n",
       "<td>0.375</td>\n",
       "<td>80.0</td>\n",
       "<td>84.0909091</td></tr>\n",
       "<tr><td></td>\n",
       "<td>9</td>\n",
       "<td>0.3055556</td>\n",
       "<td>0.4993527</td>\n",
       "<td>0.6136364</td>\n",
       "<td>1.4318182</td>\n",
       "<td>0.2727273</td>\n",
       "<td>0.6363636</td>\n",
       "<td>0.0625</td>\n",
       "<td>0.4375</td>\n",
       "<td>-38.6363636</td>\n",
       "<td>43.1818182</td></tr>\n",
       "<tr><td></td>\n",
       "<td>10</td>\n",
       "<td>0.3981481</td>\n",
       "<td>0.4165220</td>\n",
       "<td>1.575</td>\n",
       "<td>1.4651163</td>\n",
       "<td>0.7</td>\n",
       "<td>0.6511628</td>\n",
       "<td>0.1458333</td>\n",
       "<td>0.5833333</td>\n",
       "<td>57.5</td>\n",
       "<td>46.5116279</td></tr>\n",
       "<tr><td></td>\n",
       "<td>11</td>\n",
       "<td>0.5</td>\n",
       "<td>0.3299489</td>\n",
       "<td>1.2272727</td>\n",
       "<td>1.4166667</td>\n",
       "<td>0.5454545</td>\n",
       "<td>0.6296296</td>\n",
       "<td>0.125</td>\n",
       "<td>0.7083333</td>\n",
       "<td>22.7272727</td>\n",
       "<td>41.6666667</td></tr>\n",
       "<tr><td></td>\n",
       "<td>12</td>\n",
       "<td>0.6018519</td>\n",
       "<td>0.2541968</td>\n",
       "<td>0.8181818</td>\n",
       "<td>1.3153846</td>\n",
       "<td>0.3636364</td>\n",
       "<td>0.5846154</td>\n",
       "<td>0.0833333</td>\n",
       "<td>0.7916667</td>\n",
       "<td>-18.1818182</td>\n",
       "<td>31.5384615</td></tr>\n",
       "<tr><td></td>\n",
       "<td>13</td>\n",
       "<td>0.6944444</td>\n",
       "<td>0.2147971</td>\n",
       "<td>1.125</td>\n",
       "<td>1.29</td>\n",
       "<td>0.5</td>\n",
       "<td>0.5733333</td>\n",
       "<td>0.1041667</td>\n",
       "<td>0.8958333</td>\n",
       "<td>12.5</td>\n",
       "<td>29.0</td></tr>\n",
       "<tr><td></td>\n",
       "<td>14</td>\n",
       "<td>0.7962963</td>\n",
       "<td>0.1619701</td>\n",
       "<td>0.6136364</td>\n",
       "<td>1.2034884</td>\n",
       "<td>0.2727273</td>\n",
       "<td>0.5348837</td>\n",
       "<td>0.0625</td>\n",
       "<td>0.9583333</td>\n",
       "<td>-38.6363636</td>\n",
       "<td>20.3488372</td></tr>\n",
       "<tr><td></td>\n",
       "<td>15</td>\n",
       "<td>0.8981481</td>\n",
       "<td>0.0928423</td>\n",
       "<td>0.4090909</td>\n",
       "<td>1.1134021</td>\n",
       "<td>0.1818182</td>\n",
       "<td>0.4948454</td>\n",
       "<td>0.0416667</td>\n",
       "<td>1.0</td>\n",
       "<td>-59.0909091</td>\n",
       "<td>11.3402062</td></tr>\n",
       "<tr><td></td>\n",
       "<td>16</td>\n",
       "<td>1.0</td>\n",
       "<td>0.0004794</td>\n",
       "<td>0.0</td>\n",
       "<td>1.0</td>\n",
       "<td>0.0</td>\n",
       "<td>0.4444444</td>\n",
       "<td>0.0</td>\n",
       "<td>1.0</td>\n",
       "<td>-100.0</td>\n",
       "<td>0.0</td></tr></table></div>"
      ],
      "text/plain": [
       "    group    cumulative_data_fraction    lower_threshold    lift      cumulative_lift    response_rate    cumulative_response_rate    capture_rate    cumulative_capture_rate    gain      cumulative_gain\n",
       "--  -------  --------------------------  -----------------  --------  -----------------  ---------------  --------------------------  --------------  -------------------------  --------  -----------------\n",
       "    1        0.0185185                   0.953219           2.25      2.25               1                1                           0.0416667       0.0416667                  125       125\n",
       "    2        0.0277778                   0.928184           2.25      2.25               1                1                           0.0208333       0.0625                     125       125\n",
       "    3        0.037037                    0.918193           2.25      2.25               1                1                           0.0208333       0.0833333                  125       125\n",
       "    4        0.0462963                   0.900289           2.25      2.25               1                1                           0.0208333       0.104167                   125       125\n",
       "    5        0.0555556                   0.8831             2.25      2.25               1                1                           0.0208333       0.125                      125       125\n",
       "    6        0.101852                    0.7493             1.8       2.04545            0.8              0.909091                    0.0833333       0.208333                   80        104.545\n",
       "    7        0.157407                    0.609779           1.5       1.85294            0.666667         0.823529                    0.0833333       0.291667                   50        85.2941\n",
       "    8        0.203704                    0.557987           1.8       1.84091            0.8              0.818182                    0.0833333       0.375                      80        84.0909\n",
       "    9        0.305556                    0.499353           0.613636  1.43182            0.272727         0.636364                    0.0625          0.4375                     -38.6364  43.1818\n",
       "    10       0.398148                    0.416522           1.575     1.46512            0.7              0.651163                    0.145833        0.583333                   57.5      46.5116\n",
       "    11       0.5                         0.329949           1.22727   1.41667            0.545455         0.62963                     0.125           0.708333                   22.7273   41.6667\n",
       "    12       0.601852                    0.254197           0.818182  1.31538            0.363636         0.584615                    0.0833333       0.791667                   -18.1818  31.5385\n",
       "    13       0.694444                    0.214797           1.125     1.29               0.5              0.573333                    0.104167        0.895833                   12.5      29\n",
       "    14       0.796296                    0.16197            0.613636  1.20349            0.272727         0.534884                    0.0625          0.958333                   -38.6364  20.3488\n",
       "    15       0.898148                    0.0928423          0.409091  1.1134             0.181818         0.494845                    0.0416667       1                          -59.0909  11.3402\n",
       "    16       1                           0.000479448        0         1                  0                0.444444                    0               1                          -100      0"
      ]
     },
     "metadata": {},
     "output_type": "display_data"
    },
    {
     "name": "stdout",
     "output_type": "stream",
     "text": [
      "\n"
     ]
    }
   ],
   "source": [
    "# Show default performance metrics\n",
    "performance = prostate_glm.model_performance(test)\n",
    "performance.show()"
   ]
  },
  {
   "cell_type": "markdown",
   "metadata": {},
   "source": [
    "Question 1\n",
    "------------\n",
    "Please convert your demo for the iris data set. First we need to merge the input and the target into a data frame. In this assignment, we would like to predict the length of petal by using the length of sepal. "
   ]
  },
  {
   "cell_type": "code",
   "execution_count": 16,
   "metadata": {},
   "outputs": [
    {
     "name": "stdout",
     "output_type": "stream",
     "text": [
      "     0    1    2    3  target\n",
      "0  5.1  3.5  1.4  0.2       0\n",
      "1  4.9  3.0  1.4  0.2       0\n",
      "2  4.7  3.2  1.3  0.2       0\n",
      "3  4.6  3.1  1.5  0.2       0\n",
      "4  5.0  3.6  1.4  0.2       0\n",
      "Parse progress: |█████████████████████████████████████████████████████████████████████████████| 100%\n"
     ]
    }
   ],
   "source": [
    "import pandas as pd\n",
    "iris_df=pd.DataFrame(X)\n",
    "iris_df.insert(4,\"target\",pd.DataFrame(y))\n",
    "print iris_df.head()\n",
    "iris_h2o=h2o.H2OFrame(iris_df) "
   ]
  },
  {
   "cell_type": "code",
   "execution_count": 17,
   "metadata": {},
   "outputs": [
    {
     "data": {
      "text/html": [
       "<table>\n",
       "<tr><th>       </th><th>C1            </th><th>C2            </th><th>C3           </th><th>C4            </th><th>C5            </th></tr>\n",
       "<tr><td>type   </td><td>real          </td><td>real          </td><td>real         </td><td>real          </td><td>int           </td></tr>\n",
       "<tr><td>mins   </td><td>4.3           </td><td>2.0           </td><td>1.0          </td><td>0.1           </td><td>0.0           </td></tr>\n",
       "<tr><td>mean   </td><td>5.84333333333 </td><td>3.054         </td><td>3.75866666667</td><td>1.19866666667 </td><td>1.0           </td></tr>\n",
       "<tr><td>maxs   </td><td>7.9           </td><td>4.4           </td><td>6.9          </td><td>2.5           </td><td>2.0           </td></tr>\n",
       "<tr><td>sigma  </td><td>0.828066127978</td><td>0.433594311362</td><td>1.76442041995</td><td>0.763160741701</td><td>0.819231920519</td></tr>\n",
       "<tr><td>zeros  </td><td>0             </td><td>0             </td><td>0            </td><td>0             </td><td>50            </td></tr>\n",
       "<tr><td>missing</td><td>0             </td><td>0             </td><td>0            </td><td>0             </td><td>0             </td></tr>\n",
       "<tr><td>0      </td><td>5.1           </td><td>3.5           </td><td>1.4          </td><td>0.2           </td><td>0.0           </td></tr>\n",
       "<tr><td>1      </td><td>4.9           </td><td>3.0           </td><td>1.4          </td><td>0.2           </td><td>0.0           </td></tr>\n",
       "<tr><td>2      </td><td>4.7           </td><td>3.2           </td><td>1.3          </td><td>0.2           </td><td>0.0           </td></tr>\n",
       "<tr><td>3      </td><td>4.6           </td><td>3.1           </td><td>1.5          </td><td>0.2           </td><td>0.0           </td></tr>\n",
       "<tr><td>4      </td><td>5.0           </td><td>3.6           </td><td>1.4          </td><td>0.2           </td><td>0.0           </td></tr>\n",
       "<tr><td>5      </td><td>5.4           </td><td>3.9           </td><td>1.7          </td><td>0.4           </td><td>0.0           </td></tr>\n",
       "<tr><td>6      </td><td>4.6           </td><td>3.4           </td><td>1.4          </td><td>0.3           </td><td>0.0           </td></tr>\n",
       "<tr><td>7      </td><td>5.0           </td><td>3.4           </td><td>1.5          </td><td>0.2           </td><td>0.0           </td></tr>\n",
       "<tr><td>8      </td><td>4.4           </td><td>2.9           </td><td>1.4          </td><td>0.2           </td><td>0.0           </td></tr>\n",
       "<tr><td>9      </td><td>4.9           </td><td>3.1           </td><td>1.5          </td><td>0.1           </td><td>0.0           </td></tr>\n",
       "</table>"
      ]
     },
     "metadata": {},
     "output_type": "display_data"
    }
   ],
   "source": [
    "iris_h2o.summary()"
   ]
  },
  {
   "cell_type": "markdown",
   "metadata": {},
   "source": [
    "As we can see the colname of h2o data frame is lost, to get a better understand of your data frame you can reset the colnames."
   ]
  },
  {
   "cell_type": "code",
   "execution_count": 18,
   "metadata": {},
   "outputs": [
    {
     "name": "stdout",
     "output_type": "stream",
     "text": [
      "['sepal length (cm)', 'sepal width (cm)', 'petal length (cm)', 'petal width (cm)', 'target']\n"
     ]
    },
    {
     "data": {
      "text/html": [
       "<table>\n",
       "<tr><th>       </th><th>sepal length (cm)  </th><th>sepal width (cm)  </th><th>petal length (cm)  </th><th>petal width (cm)  </th><th>target        </th></tr>\n",
       "<tr><td>type   </td><td>real               </td><td>real              </td><td>real               </td><td>real              </td><td>int           </td></tr>\n",
       "<tr><td>mins   </td><td>4.3                </td><td>2.0               </td><td>1.0                </td><td>0.1               </td><td>0.0           </td></tr>\n",
       "<tr><td>mean   </td><td>5.84333333333      </td><td>3.054             </td><td>3.75866666667      </td><td>1.19866666667     </td><td>1.0           </td></tr>\n",
       "<tr><td>maxs   </td><td>7.9                </td><td>4.4               </td><td>6.9                </td><td>2.5               </td><td>2.0           </td></tr>\n",
       "<tr><td>sigma  </td><td>0.828066127978     </td><td>0.433594311362    </td><td>1.76442041995      </td><td>0.763160741701    </td><td>0.819231920519</td></tr>\n",
       "<tr><td>zeros  </td><td>0                  </td><td>0                 </td><td>0                  </td><td>0                 </td><td>50            </td></tr>\n",
       "<tr><td>missing</td><td>0                  </td><td>0                 </td><td>0                  </td><td>0                 </td><td>0             </td></tr>\n",
       "<tr><td>0      </td><td>5.1                </td><td>3.5               </td><td>1.4                </td><td>0.2               </td><td>0.0           </td></tr>\n",
       "<tr><td>1      </td><td>4.9                </td><td>3.0               </td><td>1.4                </td><td>0.2               </td><td>0.0           </td></tr>\n",
       "<tr><td>2      </td><td>4.7                </td><td>3.2               </td><td>1.3                </td><td>0.2               </td><td>0.0           </td></tr>\n",
       "<tr><td>3      </td><td>4.6                </td><td>3.1               </td><td>1.5                </td><td>0.2               </td><td>0.0           </td></tr>\n",
       "<tr><td>4      </td><td>5.0                </td><td>3.6               </td><td>1.4                </td><td>0.2               </td><td>0.0           </td></tr>\n",
       "<tr><td>5      </td><td>5.4                </td><td>3.9               </td><td>1.7                </td><td>0.4               </td><td>0.0           </td></tr>\n",
       "<tr><td>6      </td><td>4.6                </td><td>3.4               </td><td>1.4                </td><td>0.3               </td><td>0.0           </td></tr>\n",
       "<tr><td>7      </td><td>5.0                </td><td>3.4               </td><td>1.5                </td><td>0.2               </td><td>0.0           </td></tr>\n",
       "<tr><td>8      </td><td>4.4                </td><td>2.9               </td><td>1.4                </td><td>0.2               </td><td>0.0           </td></tr>\n",
       "<tr><td>9      </td><td>4.9                </td><td>3.1               </td><td>1.5                </td><td>0.1               </td><td>0.0           </td></tr>\n",
       "</table>"
      ]
     },
     "metadata": {},
     "output_type": "display_data"
    }
   ],
   "source": [
    "iris.feature_names.append(\"target\")\n",
    "print iris.feature_names\n",
    "iris_h2o.set_names(iris.feature_names)\n",
    "\n",
    "iris_h2o.summary()"
   ]
  },
  {
   "cell_type": "markdown",
   "metadata": {},
   "source": [
    "We note that our problem is a regression problem. \n",
    "Using help() to give a more details of the H2OGeneralizedLinearEstimator function."
   ]
  },
  {
   "cell_type": "code",
   "execution_count": 19,
   "metadata": {},
   "outputs": [],
   "source": [
    "# Randomly split the dataset into ~70/30, training/test sets\n",
    "r = iris_h2o[0].runif()\n",
    "iris_train = iris_h2o[r < 0.70]\n",
    "iris_test = iris_h2o[r >= 0.70]"
   ]
  },
  {
   "cell_type": "code",
   "execution_count": 20,
   "metadata": {},
   "outputs": [],
   "source": [
    "#help(H2OGeneralizedLinearEstimator)"
   ]
  },
  {
   "cell_type": "code",
   "execution_count": null,
   "metadata": {},
   "outputs": [],
   "source": []
  },
  {
   "cell_type": "code",
   "execution_count": null,
   "metadata": {},
   "outputs": [],
   "source": []
  },
  {
   "cell_type": "code",
   "execution_count": null,
   "metadata": {},
   "outputs": [],
   "source": []
  }
 ],
 "metadata": {
  "kernelspec": {
   "display_name": "Python 2",
   "language": "python",
   "name": "python2"
  },
  "language_info": {
   "codemirror_mode": {
    "name": "ipython",
    "version": 2
   },
   "file_extension": ".py",
   "mimetype": "text/x-python",
   "name": "python",
   "nbconvert_exporter": "python",
   "pygments_lexer": "ipython2",
   "version": "2.7.12"
  }
 },
 "nbformat": 4,
 "nbformat_minor": 1
}
