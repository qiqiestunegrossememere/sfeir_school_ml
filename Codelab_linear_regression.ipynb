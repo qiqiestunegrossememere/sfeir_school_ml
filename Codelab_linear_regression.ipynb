{
 "cells": [
  {
   "cell_type": "markdown",
   "metadata": {},
   "source": [
    "Linear Regression\n",
    "=============\n",
    "\n",
    "Assignment 1\n",
    "------------\n",
    "\n",
    "The objective of this assignment is to learn how to apply a linear regression algorithm on the iris data set.\n",
    "\n",
    "This notebook uses the [iris](https://archive.ics.uci.edu/ml/datasets/Iris) dataset to be used with python experiments. This is perhaps the best known database to be found in the pattern recognition literature. Fisher's paper is a classic in the field and is referenced frequently to this day. (See Duda & Hart, for example.) The data set contains 3 classes of 50 instances each, where each class refers to a type of iris plant. One class is linearly separable from the other 2; the latter are NOT linearly separable from each other. "
   ]
  },
  {
   "cell_type": "markdown",
   "metadata": {},
   "source": [
    "The rows being the samples and the columns being: Sepal Length, Sepal Width, Petal Length and Petal Width.\n",
    "First we would like to load this data set and visulasation the distribution using the two first two features."
   ]
  },
  {
   "cell_type": "code",
   "execution_count": 1,
   "metadata": {},
   "outputs": [
    {
     "name": "stdout",
     "output_type": "stream",
     "text": [
      "['target_names', 'data', 'target', 'DESCR', 'feature_names']\n"
     ]
    },
    {
     "data": {
      "text/plain": [
       "([], <a list of 0 Text yticklabel objects>)"
      ]
     },
     "execution_count": 1,
     "metadata": {},
     "output_type": "execute_result"
    },
    {
     "data": {
      "image/png": "[encoded data removed]",
      "text/plain": [
       "<matplotlib.figure.Figure at 0x10a5f6690>"
      ]
     },
     "metadata": {},
     "output_type": "display_data"
    }
   ],
   "source": [
    "import matplotlib.pyplot as plt\n",
    "from sklearn import datasets\n",
    "import matplotlib.pyplot as plt\n",
    "%matplotlib inline \n",
    "\n",
    "# import some data to play with\n",
    "iris = datasets.load_iris()\n",
    "X = iris.data\n",
    "y = iris.target\n",
    "target_names = iris.target_names\n",
    "print iris.keys()\n",
    "x_min, x_max = X[:, 0].min() - .5, X[:, 0].max() + .5\n",
    "y_min, y_max = X[:, 2].min() - .5, X[:, 2].max() + .5\n",
    "\n",
    "plt.figure(2, figsize=(8, 6))\n",
    "plt.clf()\n",
    "\n",
    "# Plot the training points\n",
    "plt.scatter(X[:, 0], X[:, 2], c=y, cmap=plt.cm.Paired)\n",
    "plt.xlabel(iris.feature_names[0])\n",
    "plt.ylabel(iris.feature_names[2])\n",
    "\n",
    "plt.xlim(x_min, x_max)\n",
    "plt.ylim(y_min, y_max)\n",
    "plt.xticks(())\n",
    "plt.yticks(())\n"
   ]
  },
  {
   "cell_type": "markdown",
   "metadata": {},
   "source": [
    "In this assignment, we would like to predict the length of petal by using the length of sepal. In this case, the \"sepal length\" is the input value and the \"petal length\" is the target value. In order to apply the Machine Learning algotirthm in the h2o, first we need to import the H2o library and initialization the H2o flow. See the installation document, if the \"h2o\" is not installed in Python."
   ]
  },
  {
   "cell_type": "code",
   "execution_count": 2,
   "metadata": {},
   "outputs": [
    {
     "name": "stdout",
     "output_type": "stream",
     "text": [
      "Help on function init in module h2o.h2o:\n",
      "\n",
      "init(url=None, ip=None, port=None, https=None, insecure=False, username=None, password=None, cluster_name=None, proxy=None, start_h2o=True, nthreads=-1, ice_root=None, enable_assertions=True, max_mem_size=None, min_mem_size=None, strict_version_check=True, **kwargs)\n",
      "    Attempt to connect to a local server, or if not successful start a new server and connect to it.\n",
      "    \n",
      "    :param url:\n",
      "    :param ip:\n",
      "    :param port:\n",
      "    :param https:\n",
      "    :param insecure:\n",
      "    :param username:\n",
      "    :param password:\n",
      "    :param cluster_name:\n",
      "    :param proxy:\n",
      "    :param start_h2o:\n",
      "    :param nthreads:\n",
      "    :param ice_root:\n",
      "    :param enable_assertions:\n",
      "    :param max_mem_size:\n",
      "    :param min_mem_size:\n",
      "    :param strict_version_check:\n",
      "    :param kwargs: (all other deprecated attributes)\n",
      "    :returns: nothing\n",
      "\n"
     ]
    }
   ],
   "source": [
    "import h2o\n",
    "#Use help to get the details of the using function\n",
    "help(h2o.init)"
   ]
  },
  {
   "cell_type": "code",
   "execution_count": 3,
   "metadata": {},
   "outputs": [
    {
     "name": "stdout",
     "output_type": "stream",
     "text": [
      "Checking whether there is an H2O instance running at http://localhost:54321..... not found.\n",
      "Attempting to start a local H2O server...\n",
      "  Java Version: java version \"1.8.0_101\"; Java(TM) SE Runtime Environment (build 1.8.0_101-b13); Java HotSpot(TM) 64-Bit Server VM (build 25.101-b13, mixed mode)\n",
      "  Starting server from /usr/local/h2o_jar/h2o.jar\n",
      "  Ice root: /var/folders/dy/n8yy2ljj7qs1knmcrf70fsqw0000gq/T/tmp7nY6B1\n",
      "  JVM stdout: /var/folders/dy/n8yy2ljj7qs1knmcrf70fsqw0000gq/T/tmp7nY6B1/h2o_jiqiongqiu_started_from_python.out\n",
      "  JVM stderr: /var/folders/dy/n8yy2ljj7qs1knmcrf70fsqw0000gq/T/tmp7nY6B1/h2o_jiqiongqiu_started_from_python.err\n",
      "  Server is running at http://127.0.0.1:54321\n",
      "Connecting to H2O server at http://127.0.0.1:54321... successful.\n"
     ]
    }
   ],
   "source": [
    "h2o.init()"
   ]
  },
  {
   "cell_type": "markdown",
   "metadata": {},
   "source": [
    "If everything works, an H2o instance will be lanunch at http://localhost:54321. By taping this adress in your web browser, we can observe that the H2o Web UI is in place. We can directly develop the ML algorithm by using the Web UI. But for this assignment, we use the H2o's API for python.\n",
    "![title](./h2o_flow.png)"
   ]
  },
  {
   "cell_type": "markdown",
   "metadata": {},
   "source": [
    "This demo is provided by H2o, you can also entre \"h2o.demo(\"glm\")\" to run this demo in your console. The demo is for a classification problem, but the principale remains the same. "
   ]
  },
  {
   "cell_type": "code",
   "execution_count": 4,
   "metadata": {},
   "outputs": [
    {
     "name": "stdout",
     "output_type": "stream",
     "text": [
      "Parse progress: |█████████████████████████████████████████████████████████████████████████████| 100%\n"
     ]
    }
   ],
   "source": [
    "# Upload the prostate dataset\n",
    "prostate =  h2o.import_file(path=\"https://h2o-public-test-data.s3.amazonaws.com/smalldata/logreg/prostate.csv\")"
   ]
  },
  {
   "cell_type": "code",
   "execution_count": 5,
   "metadata": {},
   "outputs": [
    {
     "data": {
      "text/html": [
       "<table>\n",
       "<tr><th>       </th><th>ID           </th><th>CAPSULE       </th><th>AGE          </th><th>RACE          </th><th>DPROS        </th><th>DCAPS         </th><th>PSA          </th><th>VOL          </th><th>GLEASON      </th></tr>\n",
       "<tr><td>type   </td><td>int          </td><td>int           </td><td>int          </td><td>int           </td><td>int          </td><td>int           </td><td>real         </td><td>real         </td><td>int          </td></tr>\n",
       "<tr><td>mins   </td><td>1.0          </td><td>0.0           </td><td>43.0         </td><td>0.0           </td><td>1.0          </td><td>1.0           </td><td>0.3          </td><td>0.0          </td><td>0.0          </td></tr>\n",
       "<tr><td>mean   </td><td>190.5        </td><td>0.402631578947</td><td>66.0394736842</td><td>1.08684210526 </td><td>2.27105263158</td><td>1.10789473684 </td><td>15.4086315789</td><td>15.8129210526</td><td>6.38421052632</td></tr>\n",
       "<tr><td>maxs   </td><td>380.0        </td><td>1.0           </td><td>79.0         </td><td>2.0           </td><td>4.0          </td><td>2.0           </td><td>139.7        </td><td>97.6         </td><td>9.0          </td></tr>\n",
       "<tr><td>sigma  </td><td>109.840793879</td><td>0.491074338963</td><td>6.52707126917</td><td>0.308773258025</td><td>1.00010761815</td><td>0.310656449351</td><td>19.9975726686</td><td>18.3476199673</td><td>1.09195337443</td></tr>\n",
       "<tr><td>zeros  </td><td>0            </td><td>227           </td><td>0            </td><td>3             </td><td>0            </td><td>0             </td><td>0            </td><td>167          </td><td>2            </td></tr>\n",
       "<tr><td>missing</td><td>0            </td><td>0             </td><td>0            </td><td>0             </td><td>0            </td><td>0             </td><td>0            </td><td>0            </td><td>0            </td></tr>\n",
       "<tr><td>0      </td><td>1.0          </td><td>0.0           </td><td>65.0         </td><td>1.0           </td><td>2.0          </td><td>1.0           </td><td>1.4          </td><td>0.0          </td><td>6.0          </td></tr>\n",
       "<tr><td>1      </td><td>2.0          </td><td>0.0           </td><td>72.0         </td><td>1.0           </td><td>3.0          </td><td>2.0           </td><td>6.7          </td><td>0.0          </td><td>7.0          </td></tr>\n",
       "<tr><td>2      </td><td>3.0          </td><td>0.0           </td><td>70.0         </td><td>1.0           </td><td>1.0          </td><td>2.0           </td><td>4.9          </td><td>0.0          </td><td>6.0          </td></tr>\n",
       "<tr><td>3      </td><td>4.0          </td><td>0.0           </td><td>76.0         </td><td>2.0           </td><td>2.0          </td><td>1.0           </td><td>51.2         </td><td>20.0         </td><td>7.0          </td></tr>\n",
       "<tr><td>4      </td><td>5.0          </td><td>0.0           </td><td>69.0         </td><td>1.0           </td><td>1.0          </td><td>1.0           </td><td>12.3         </td><td>55.9         </td><td>6.0          </td></tr>\n",
       "<tr><td>5      </td><td>6.0          </td><td>1.0           </td><td>71.0         </td><td>1.0           </td><td>3.0          </td><td>2.0           </td><td>3.3          </td><td>0.0          </td><td>8.0          </td></tr>\n",
       "<tr><td>6      </td><td>7.0          </td><td>0.0           </td><td>68.0         </td><td>2.0           </td><td>4.0          </td><td>2.0           </td><td>31.9         </td><td>0.0          </td><td>7.0          </td></tr>\n",
       "<tr><td>7      </td><td>8.0          </td><td>0.0           </td><td>61.0         </td><td>2.0           </td><td>4.0          </td><td>2.0           </td><td>66.7         </td><td>27.2         </td><td>7.0          </td></tr>\n",
       "<tr><td>8      </td><td>9.0          </td><td>0.0           </td><td>69.0         </td><td>1.0           </td><td>1.0          </td><td>1.0           </td><td>3.9          </td><td>24.0         </td><td>7.0          </td></tr>\n",
       "<tr><td>9      </td><td>10.0         </td><td>0.0           </td><td>68.0         </td><td>2.0           </td><td>1.0          </td><td>2.0           </td><td>13.0         </td><td>0.0          </td><td>6.0          </td></tr>\n",
       "</table>"
      ]
     },
     "metadata": {},
     "output_type": "display_data"
    }
   ],
   "source": [
    "# Print a description of the prostate data\n",
    "prostate.summary()"
   ]
  },
  {
   "cell_type": "code",
   "execution_count": 6,
   "metadata": {},
   "outputs": [],
   "source": [
    "# Randomly split the dataset into ~70/30, training/test sets\n",
    "r = prostate[0].runif()\n",
    "train = prostate[r < 0.70]\n",
    "test = prostate[r >= 0.70]"
   ]
  },
  {
   "cell_type": "code",
   "execution_count": 7,
   "metadata": {},
   "outputs": [],
   "source": [
    "# Convert the response columns to factors (for binary classification problems)\n",
    "train[\"CAPSULE\"] = train[\"CAPSULE\"].asfactor()\n",
    "test[\"CAPSULE\"] = test[\"CAPSULE\"].asfactor()\n"
   ]
  },
  {
   "cell_type": "code",
   "execution_count": 8,
   "metadata": {},
   "outputs": [
    {
     "name": "stdout",
     "output_type": "stream",
     "text": [
      "glm Model Build progress: |███████████████████████████████████████████████████████████████████| 100%\n"
     ]
    }
   ],
   "source": [
    "# Build a (classification) GLM\n",
    "from h2o.estimators import H2OGeneralizedLinearEstimator\n",
    "prostate_glm = H2OGeneralizedLinearEstimator(family=\"binomial\", alpha=[0.5])\n",
    "prostate_glm.train(x=[\"AGE\", \"RACE\", \"PSA\", \"VOL\", \"GLEASON\"],y=\"CAPSULE\", training_frame=train)"
   ]
  },
  {
   "cell_type": "code",
   "execution_count": 9,
   "metadata": {},
   "outputs": [
    {
     "name": "stdout",
     "output_type": "stream",
     "text": [
      "Model Details\n",
      "=============\n",
      "H2OGeneralizedLinearEstimator :  Generalized Linear Modeling\n",
      "Model Key:  GLM_model_python_1473856953662_1\n",
      "GLM Model: summary\n",
      "\n"
     ]
    },
    {
     "data": {
      "text/html": [
       "<div style=\"overflow:auto\"><table style=\"width:50%\"><tr><td><b></b></td>\n",
       "<td><b>family</b></td>\n",
       "<td><b>link</b></td>\n",
       "<td><b>regularization</b></td>\n",
       "<td><b>number_of_predictors_total</b></td>\n",
       "<td><b>number_of_active_predictors</b></td>\n",
       "<td><b>number_of_iterations</b></td>\n",
       "<td><b>training_frame</b></td></tr>\n",
       "<tr><td></td>\n",
       "<td>binomial</td>\n",
       "<td>logit</td>\n",
       "<td>Elastic Net (alpha = 0.5, lambda = 4.435E-4 )</td>\n",
       "<td>5</td>\n",
       "<td>5</td>\n",
       "<td>4</td>\n",
       "<td>py_4_sid_9b7a</td></tr></table></div>"
      ],
      "text/plain": [
       "    family    link    regularization                                 number_of_predictors_total    number_of_active_predictors    number_of_iterations    training_frame\n",
       "--  --------  ------  ---------------------------------------------  ----------------------------  -----------------------------  ----------------------  ----------------\n",
       "    binomial  logit   Elastic Net (alpha = 0.5, lambda = 4.435E-4 )  5                             5                              4                       py_4_sid_9b7a"
      ]
     },
     "metadata": {},
     "output_type": "display_data"
    },
    {
     "name": "stdout",
     "output_type": "stream",
     "text": [
      "\n",
      "\n",
      "ModelMetricsBinomialGLM: glm\n",
      "** Reported on train data. **\n",
      "\n",
      "MSE: 0.178271976724\n",
      "RMSE: 0.422222662494\n",
      "LogLoss: 0.527514252855\n",
      "Null degrees of freedom: 259\n",
      "Residual degrees of freedom: 254\n",
      "Null deviance: 354.862744265\n",
      "Residual deviance: 274.307411485\n",
      "AIC: 286.307411485\n",
      "AUC: 0.798778644416\n",
      "Gini: 0.597557288832\n",
      "Confusion Matrix (Act/Pred) for max f1 @ threshold = 0.324184821812: \n"
     ]
    },
    {
     "data": {
      "text/html": [
       "<div style=\"overflow:auto\"><table style=\"width:50%\"><tr><td><b></b></td>\n",
       "<td><b>0</b></td>\n",
       "<td><b>1</b></td>\n",
       "<td><b>Error</b></td>\n",
       "<td><b>Rate</b></td></tr>\n",
       "<tr><td>0</td>\n",
       "<td>96.0</td>\n",
       "<td>53.0</td>\n",
       "<td>0.3557</td>\n",
       "<td> (53.0/149.0)</td></tr>\n",
       "<tr><td>1</td>\n",
       "<td>21.0</td>\n",
       "<td>90.0</td>\n",
       "<td>0.1892</td>\n",
       "<td> (21.0/111.0)</td></tr>\n",
       "<tr><td>Total</td>\n",
       "<td>117.0</td>\n",
       "<td>143.0</td>\n",
       "<td>0.2846</td>\n",
       "<td> (74.0/260.0)</td></tr></table></div>"
      ],
      "text/plain": [
       "       0    1    Error    Rate\n",
       "-----  ---  ---  -------  ------------\n",
       "0      96   53   0.3557   (53.0/149.0)\n",
       "1      21   90   0.1892   (21.0/111.0)\n",
       "Total  117  143  0.2846   (74.0/260.0)"
      ]
     },
     "metadata": {},
     "output_type": "display_data"
    },
    {
     "name": "stdout",
     "output_type": "stream",
     "text": [
      "Maximum Metrics: Maximum metrics at their respective thresholds\n",
      "\n"
     ]
    },
    {
     "data": {
      "text/html": [
       "<div style=\"overflow:auto\"><table style=\"width:50%\"><tr><td><b>metric</b></td>\n",
       "<td><b>threshold</b></td>\n",
       "<td><b>value</b></td>\n",
       "<td><b>idx</b></td></tr>\n",
       "<tr><td>max f1</td>\n",
       "<td>0.3241848</td>\n",
       "<td>0.7086614</td>\n",
       "<td>142.0</td></tr>\n",
       "<tr><td>max f2</td>\n",
       "<td>0.1793363</td>\n",
       "<td>0.8143075</td>\n",
       "<td>212.0</td></tr>\n",
       "<tr><td>max f0point5</td>\n",
       "<td>0.5677960</td>\n",
       "<td>0.7108434</td>\n",
       "<td>75.0</td></tr>\n",
       "<tr><td>max accuracy</td>\n",
       "<td>0.5062028</td>\n",
       "<td>0.7384615</td>\n",
       "<td>92.0</td></tr>\n",
       "<tr><td>max precision</td>\n",
       "<td>0.9888923</td>\n",
       "<td>1.0</td>\n",
       "<td>0.0</td></tr>\n",
       "<tr><td>max recall</td>\n",
       "<td>0.1003694</td>\n",
       "<td>1.0</td>\n",
       "<td>242.0</td></tr>\n",
       "<tr><td>max specificity</td>\n",
       "<td>0.9888923</td>\n",
       "<td>1.0</td>\n",
       "<td>0.0</td></tr>\n",
       "<tr><td>max absolute_mcc</td>\n",
       "<td>0.4822589</td>\n",
       "<td>0.4614783</td>\n",
       "<td>102.0</td></tr>\n",
       "<tr><td>max min_per_class_accuracy</td>\n",
       "<td>0.4319229</td>\n",
       "<td>0.7114094</td>\n",
       "<td>121.0</td></tr>\n",
       "<tr><td>max mean_per_class_accuracy</td>\n",
       "<td>0.4516746</td>\n",
       "<td>0.7293972</td>\n",
       "<td>111.0</td></tr></table></div>"
      ],
      "text/plain": [
       "metric                       threshold    value     idx\n",
       "---------------------------  -----------  --------  -----\n",
       "max f1                       0.324185     0.708661  142\n",
       "max f2                       0.179336     0.814307  212\n",
       "max f0point5                 0.567796     0.710843  75\n",
       "max accuracy                 0.506203     0.738462  92\n",
       "max precision                0.988892     1         0\n",
       "max recall                   0.100369     1         242\n",
       "max specificity              0.988892     1         0\n",
       "max absolute_mcc             0.482259     0.461478  102\n",
       "max min_per_class_accuracy   0.431923     0.711409  121\n",
       "max mean_per_class_accuracy  0.451675     0.729397  111"
      ]
     },
     "metadata": {},
     "output_type": "display_data"
    },
    {
     "name": "stdout",
     "output_type": "stream",
     "text": [
      "Gains/Lift Table: Avg response rate: 42.69 %\n",
      "\n"
     ]
    },
    {
     "data": {
      "text/html": [
       "<div style=\"overflow:auto\"><table style=\"width:50%\"><tr><td><b></b></td>\n",
       "<td><b>group</b></td>\n",
       "<td><b>cumulative_data_fraction</b></td>\n",
       "<td><b>lower_threshold</b></td>\n",
       "<td><b>lift</b></td>\n",
       "<td><b>cumulative_lift</b></td>\n",
       "<td><b>response_rate</b></td>\n",
       "<td><b>cumulative_response_rate</b></td>\n",
       "<td><b>capture_rate</b></td>\n",
       "<td><b>cumulative_capture_rate</b></td>\n",
       "<td><b>gain</b></td>\n",
       "<td><b>cumulative_gain</b></td></tr>\n",
       "<tr><td></td>\n",
       "<td>1</td>\n",
       "<td>0.0115385</td>\n",
       "<td>0.9821549</td>\n",
       "<td>2.3423423</td>\n",
       "<td>2.3423423</td>\n",
       "<td>1.0</td>\n",
       "<td>1.0</td>\n",
       "<td>0.0270270</td>\n",
       "<td>0.0270270</td>\n",
       "<td>134.2342342</td>\n",
       "<td>134.2342342</td></tr>\n",
       "<tr><td></td>\n",
       "<td>2</td>\n",
       "<td>0.0230769</td>\n",
       "<td>0.9661381</td>\n",
       "<td>2.3423423</td>\n",
       "<td>2.3423423</td>\n",
       "<td>1.0</td>\n",
       "<td>1.0</td>\n",
       "<td>0.0270270</td>\n",
       "<td>0.0540541</td>\n",
       "<td>134.2342342</td>\n",
       "<td>134.2342342</td></tr>\n",
       "<tr><td></td>\n",
       "<td>3</td>\n",
       "<td>0.0307692</td>\n",
       "<td>0.9548820</td>\n",
       "<td>2.3423423</td>\n",
       "<td>2.3423423</td>\n",
       "<td>1.0</td>\n",
       "<td>1.0</td>\n",
       "<td>0.0180180</td>\n",
       "<td>0.0720721</td>\n",
       "<td>134.2342342</td>\n",
       "<td>134.2342342</td></tr>\n",
       "<tr><td></td>\n",
       "<td>4</td>\n",
       "<td>0.0423077</td>\n",
       "<td>0.9422233</td>\n",
       "<td>2.3423423</td>\n",
       "<td>2.3423423</td>\n",
       "<td>1.0</td>\n",
       "<td>1.0</td>\n",
       "<td>0.0270270</td>\n",
       "<td>0.0990991</td>\n",
       "<td>134.2342342</td>\n",
       "<td>134.2342342</td></tr>\n",
       "<tr><td></td>\n",
       "<td>5</td>\n",
       "<td>0.05</td>\n",
       "<td>0.9285748</td>\n",
       "<td>2.3423423</td>\n",
       "<td>2.3423423</td>\n",
       "<td>1.0</td>\n",
       "<td>1.0</td>\n",
       "<td>0.0180180</td>\n",
       "<td>0.1171171</td>\n",
       "<td>134.2342342</td>\n",
       "<td>134.2342342</td></tr>\n",
       "<tr><td></td>\n",
       "<td>6</td>\n",
       "<td>0.1</td>\n",
       "<td>0.8568971</td>\n",
       "<td>2.1621622</td>\n",
       "<td>2.2522523</td>\n",
       "<td>0.9230769</td>\n",
       "<td>0.9615385</td>\n",
       "<td>0.1081081</td>\n",
       "<td>0.2252252</td>\n",
       "<td>116.2162162</td>\n",
       "<td>125.2252252</td></tr>\n",
       "<tr><td></td>\n",
       "<td>7</td>\n",
       "<td>0.15</td>\n",
       "<td>0.7307997</td>\n",
       "<td>1.8018018</td>\n",
       "<td>2.1021021</td>\n",
       "<td>0.7692308</td>\n",
       "<td>0.8974359</td>\n",
       "<td>0.0900901</td>\n",
       "<td>0.3153153</td>\n",
       "<td>80.1801802</td>\n",
       "<td>110.2102102</td></tr>\n",
       "<tr><td></td>\n",
       "<td>8</td>\n",
       "<td>0.2</td>\n",
       "<td>0.6530328</td>\n",
       "<td>1.2612613</td>\n",
       "<td>1.8918919</td>\n",
       "<td>0.5384615</td>\n",
       "<td>0.8076923</td>\n",
       "<td>0.0630631</td>\n",
       "<td>0.3783784</td>\n",
       "<td>26.1261261</td>\n",
       "<td>89.1891892</td></tr>\n",
       "<tr><td></td>\n",
       "<td>9</td>\n",
       "<td>0.3</td>\n",
       "<td>0.5646024</td>\n",
       "<td>1.6216216</td>\n",
       "<td>1.8018018</td>\n",
       "<td>0.6923077</td>\n",
       "<td>0.7692308</td>\n",
       "<td>0.1621622</td>\n",
       "<td>0.5405405</td>\n",
       "<td>62.1621622</td>\n",
       "<td>80.1801802</td></tr>\n",
       "<tr><td></td>\n",
       "<td>10</td>\n",
       "<td>0.4</td>\n",
       "<td>0.4808273</td>\n",
       "<td>1.1711712</td>\n",
       "<td>1.6441441</td>\n",
       "<td>0.5</td>\n",
       "<td>0.7019231</td>\n",
       "<td>0.1171171</td>\n",
       "<td>0.6576577</td>\n",
       "<td>17.1171171</td>\n",
       "<td>64.4144144</td></tr>\n",
       "<tr><td></td>\n",
       "<td>11</td>\n",
       "<td>0.5</td>\n",
       "<td>0.3693529</td>\n",
       "<td>0.9009009</td>\n",
       "<td>1.4954955</td>\n",
       "<td>0.3846154</td>\n",
       "<td>0.6384615</td>\n",
       "<td>0.0900901</td>\n",
       "<td>0.7477477</td>\n",
       "<td>-9.9099099</td>\n",
       "<td>49.5495495</td></tr>\n",
       "<tr><td></td>\n",
       "<td>12</td>\n",
       "<td>0.6</td>\n",
       "<td>0.2816730</td>\n",
       "<td>0.9009009</td>\n",
       "<td>1.3963964</td>\n",
       "<td>0.3846154</td>\n",
       "<td>0.5961538</td>\n",
       "<td>0.0900901</td>\n",
       "<td>0.8378378</td>\n",
       "<td>-9.9099099</td>\n",
       "<td>39.6396396</td></tr>\n",
       "<tr><td></td>\n",
       "<td>13</td>\n",
       "<td>0.7</td>\n",
       "<td>0.2481746</td>\n",
       "<td>0.3603604</td>\n",
       "<td>1.2483912</td>\n",
       "<td>0.1538462</td>\n",
       "<td>0.5329670</td>\n",
       "<td>0.0360360</td>\n",
       "<td>0.8738739</td>\n",
       "<td>-63.9639640</td>\n",
       "<td>24.8391248</td></tr>\n",
       "<tr><td></td>\n",
       "<td>14</td>\n",
       "<td>0.8</td>\n",
       "<td>0.1996907</td>\n",
       "<td>0.7207207</td>\n",
       "<td>1.1824324</td>\n",
       "<td>0.3076923</td>\n",
       "<td>0.5048077</td>\n",
       "<td>0.0720721</td>\n",
       "<td>0.9459459</td>\n",
       "<td>-27.9279279</td>\n",
       "<td>18.2432432</td></tr>\n",
       "<tr><td></td>\n",
       "<td>15</td>\n",
       "<td>0.9</td>\n",
       "<td>0.1092359</td>\n",
       "<td>0.3603604</td>\n",
       "<td>1.0910911</td>\n",
       "<td>0.1538462</td>\n",
       "<td>0.4658120</td>\n",
       "<td>0.0360360</td>\n",
       "<td>0.9819820</td>\n",
       "<td>-63.9639640</td>\n",
       "<td>9.1091091</td></tr>\n",
       "<tr><td></td>\n",
       "<td>16</td>\n",
       "<td>1.0</td>\n",
       "<td>0.0007944</td>\n",
       "<td>0.1801802</td>\n",
       "<td>1.0</td>\n",
       "<td>0.0769231</td>\n",
       "<td>0.4269231</td>\n",
       "<td>0.0180180</td>\n",
       "<td>1.0</td>\n",
       "<td>-81.9819820</td>\n",
       "<td>0.0</td></tr></table></div>"
      ],
      "text/plain": [
       "    group    cumulative_data_fraction    lower_threshold    lift      cumulative_lift    response_rate    cumulative_response_rate    capture_rate    cumulative_capture_rate    gain      cumulative_gain\n",
       "--  -------  --------------------------  -----------------  --------  -----------------  ---------------  --------------------------  --------------  -------------------------  --------  -----------------\n",
       "    1        0.0115385                   0.982155           2.34234   2.34234            1                1                           0.027027        0.027027                   134.234   134.234\n",
       "    2        0.0230769                   0.966138           2.34234   2.34234            1                1                           0.027027        0.0540541                  134.234   134.234\n",
       "    3        0.0307692                   0.954882           2.34234   2.34234            1                1                           0.018018        0.0720721                  134.234   134.234\n",
       "    4        0.0423077                   0.942223           2.34234   2.34234            1                1                           0.027027        0.0990991                  134.234   134.234\n",
       "    5        0.05                        0.928575           2.34234   2.34234            1                1                           0.018018        0.117117                   134.234   134.234\n",
       "    6        0.1                         0.856897           2.16216   2.25225            0.923077         0.961538                    0.108108        0.225225                   116.216   125.225\n",
       "    7        0.15                        0.7308             1.8018    2.1021             0.769231         0.897436                    0.0900901       0.315315                   80.1802   110.21\n",
       "    8        0.2                         0.653033           1.26126   1.89189            0.538462         0.807692                    0.0630631       0.378378                   26.1261   89.1892\n",
       "    9        0.3                         0.564602           1.62162   1.8018             0.692308         0.769231                    0.162162        0.540541                   62.1622   80.1802\n",
       "    10       0.4                         0.480827           1.17117   1.64414            0.5              0.701923                    0.117117        0.657658                   17.1171   64.4144\n",
       "    11       0.5                         0.369353           0.900901  1.4955             0.384615         0.638462                    0.0900901       0.747748                   -9.90991  49.5495\n",
       "    12       0.6                         0.281673           0.900901  1.3964             0.384615         0.596154                    0.0900901       0.837838                   -9.90991  39.6396\n",
       "    13       0.7                         0.248175           0.36036   1.24839            0.153846         0.532967                    0.036036        0.873874                   -63.964   24.8391\n",
       "    14       0.8                         0.199691           0.720721  1.18243            0.307692         0.504808                    0.0720721       0.945946                   -27.9279  18.2432\n",
       "    15       0.9                         0.109236           0.36036   1.09109            0.153846         0.465812                    0.036036        0.981982                   -63.964   9.10911\n",
       "    16       1                           0.000794445        0.18018   1                  0.0769231        0.426923                    0.018018        1                          -81.982   0"
      ]
     },
     "metadata": {},
     "output_type": "display_data"
    },
    {
     "name": "stdout",
     "output_type": "stream",
     "text": [
      "\n",
      "Scoring History: \n"
     ]
    },
    {
     "data": {
      "text/html": [
       "<div style=\"overflow:auto\"><table style=\"width:50%\"><tr><td><b></b></td>\n",
       "<td><b>timestamp</b></td>\n",
       "<td><b>duration</b></td>\n",
       "<td><b>iteration</b></td>\n",
       "<td><b>negative_log_likelihood</b></td>\n",
       "<td><b>objective</b></td></tr>\n",
       "<tr><td></td>\n",
       "<td>2016-09-14 14:45:09</td>\n",
       "<td> 0.000 sec</td>\n",
       "<td>0</td>\n",
       "<td>177.4313721</td>\n",
       "<td>0.6824284</td></tr>\n",
       "<tr><td></td>\n",
       "<td>2016-09-14 14:45:09</td>\n",
       "<td> 0.172 sec</td>\n",
       "<td>1</td>\n",
       "<td>140.7453383</td>\n",
       "<td>0.5417682</td></tr>\n",
       "<tr><td></td>\n",
       "<td>2016-09-14 14:45:09</td>\n",
       "<td> 0.206 sec</td>\n",
       "<td>2</td>\n",
       "<td>137.3005519</td>\n",
       "<td>0.5287510</td></tr>\n",
       "<tr><td></td>\n",
       "<td>2016-09-14 14:45:09</td>\n",
       "<td> 0.249 sec</td>\n",
       "<td>3</td>\n",
       "<td>137.1549538</td>\n",
       "<td>0.5282564</td></tr>\n",
       "<tr><td></td>\n",
       "<td>2016-09-14 14:45:09</td>\n",
       "<td> 0.332 sec</td>\n",
       "<td>4</td>\n",
       "<td>137.1537057</td>\n",
       "<td>0.5282552</td></tr></table></div>"
      ],
      "text/plain": [
       "    timestamp            duration    iteration    negative_log_likelihood    objective\n",
       "--  -------------------  ----------  -----------  -------------------------  -----------\n",
       "    2016-09-14 14:45:09  0.000 sec   0            177.431                    0.682428\n",
       "    2016-09-14 14:45:09  0.172 sec   1            140.745                    0.541768\n",
       "    2016-09-14 14:45:09  0.206 sec   2            137.301                    0.528751\n",
       "    2016-09-14 14:45:09  0.249 sec   3            137.155                    0.528256\n",
       "    2016-09-14 14:45:09  0.332 sec   4            137.154                    0.528255"
      ]
     },
     "metadata": {},
     "output_type": "display_data"
    }
   ],
   "source": [
    "# Show the model\n",
    "prostate_glm.show()"
   ]
  },
  {
   "cell_type": "code",
   "execution_count": 10,
   "metadata": {},
   "outputs": [
    {
     "name": "stdout",
     "output_type": "stream",
     "text": [
      "glm prediction progress: |████████████████████████████████████████████████████████████████████| 100%\n"
     ]
    },
    {
     "data": {
      "text/html": [
       "<table>\n",
       "<tr><th style=\"text-align: right;\">  predict</th><th style=\"text-align: right;\">       p0</th><th style=\"text-align: right;\">       p1</th></tr>\n",
       "<tr><td style=\"text-align: right;\">        0</td><td style=\"text-align: right;\">0.73903  </td><td style=\"text-align: right;\">0.26097  </td></tr>\n",
       "<tr><td style=\"text-align: right;\">        1</td><td style=\"text-align: right;\">0.199239 </td><td style=\"text-align: right;\">0.800761 </td></tr>\n",
       "<tr><td style=\"text-align: right;\">        1</td><td style=\"text-align: right;\">0.574052 </td><td style=\"text-align: right;\">0.425948 </td></tr>\n",
       "<tr><td style=\"text-align: right;\">        1</td><td style=\"text-align: right;\">0.638726 </td><td style=\"text-align: right;\">0.361274 </td></tr>\n",
       "<tr><td style=\"text-align: right;\">        0</td><td style=\"text-align: right;\">0.944994 </td><td style=\"text-align: right;\">0.0550062</td></tr>\n",
       "<tr><td style=\"text-align: right;\">        1</td><td style=\"text-align: right;\">0.445304 </td><td style=\"text-align: right;\">0.554696 </td></tr>\n",
       "<tr><td style=\"text-align: right;\">        1</td><td style=\"text-align: right;\">0.0714216</td><td style=\"text-align: right;\">0.928578 </td></tr>\n",
       "<tr><td style=\"text-align: right;\">        1</td><td style=\"text-align: right;\">0.592452 </td><td style=\"text-align: right;\">0.407548 </td></tr>\n",
       "<tr><td style=\"text-align: right;\">        1</td><td style=\"text-align: right;\">0.574141 </td><td style=\"text-align: right;\">0.425859 </td></tr>\n",
       "<tr><td style=\"text-align: right;\">        0</td><td style=\"text-align: right;\">0.905267 </td><td style=\"text-align: right;\">0.0947333</td></tr>\n",
       "</table>"
      ]
     },
     "metadata": {},
     "output_type": "display_data"
    }
   ],
   "source": [
    "# Predict on the test set and show the first ten predictions\n",
    "predictions = prostate_glm.predict(test)\n",
    "predictions.show()\n"
   ]
  },
  {
   "cell_type": "code",
   "execution_count": 11,
   "metadata": {},
   "outputs": [
    {
     "name": "stdout",
     "output_type": "stream",
     "text": [
      "\n",
      "ModelMetricsBinomialGLM: glm\n",
      "** Reported on test data. **\n",
      "\n",
      "MSE: 0.176422197124\n",
      "RMSE: 0.420026424316\n",
      "LogLoss: 0.521715140997\n",
      "Null degrees of freedom: 119\n",
      "Residual degrees of freedom: 114\n",
      "Null deviance: 158.347430806\n",
      "Residual deviance: 125.211633839\n",
      "AIC: 137.211633839\n",
      "AUC: 0.788461538462\n",
      "Gini: 0.576923076923\n",
      "Confusion Matrix (Act/Pred) for max f1 @ threshold = 0.293832331011: \n"
     ]
    },
    {
     "data": {
      "text/html": [
       "<div style=\"overflow:auto\"><table style=\"width:50%\"><tr><td><b></b></td>\n",
       "<td><b>0</b></td>\n",
       "<td><b>1</b></td>\n",
       "<td><b>Error</b></td>\n",
       "<td><b>Rate</b></td></tr>\n",
       "<tr><td>0</td>\n",
       "<td>51.0</td>\n",
       "<td>27.0</td>\n",
       "<td>0.3462</td>\n",
       "<td> (27.0/78.0)</td></tr>\n",
       "<tr><td>1</td>\n",
       "<td>7.0</td>\n",
       "<td>35.0</td>\n",
       "<td>0.1667</td>\n",
       "<td> (7.0/42.0)</td></tr>\n",
       "<tr><td>Total</td>\n",
       "<td>58.0</td>\n",
       "<td>62.0</td>\n",
       "<td>0.2833</td>\n",
       "<td> (34.0/120.0)</td></tr></table></div>"
      ],
      "text/plain": [
       "       0    1    Error    Rate\n",
       "-----  ---  ---  -------  ------------\n",
       "0      51   27   0.3462   (27.0/78.0)\n",
       "1      7    35   0.1667   (7.0/42.0)\n",
       "Total  58   62   0.2833   (34.0/120.0)"
      ]
     },
     "metadata": {},
     "output_type": "display_data"
    },
    {
     "name": "stdout",
     "output_type": "stream",
     "text": [
      "Maximum Metrics: Maximum metrics at their respective thresholds\n",
      "\n"
     ]
    },
    {
     "data": {
      "text/html": [
       "<div style=\"overflow:auto\"><table style=\"width:50%\"><tr><td><b>metric</b></td>\n",
       "<td><b>threshold</b></td>\n",
       "<td><b>value</b></td>\n",
       "<td><b>idx</b></td></tr>\n",
       "<tr><td>max f1</td>\n",
       "<td>0.2938323</td>\n",
       "<td>0.6730769</td>\n",
       "<td>60.0</td></tr>\n",
       "<tr><td>max f2</td>\n",
       "<td>0.2140532</td>\n",
       "<td>0.7894737</td>\n",
       "<td>77.0</td></tr>\n",
       "<tr><td>max f0point5</td>\n",
       "<td>0.5483174</td>\n",
       "<td>0.6645570</td>\n",
       "<td>27.0</td></tr>\n",
       "<tr><td>max accuracy</td>\n",
       "<td>0.5483174</td>\n",
       "<td>0.7583333</td>\n",
       "<td>27.0</td></tr>\n",
       "<tr><td>max precision</td>\n",
       "<td>0.9980830</td>\n",
       "<td>1.0</td>\n",
       "<td>0.0</td></tr>\n",
       "<tr><td>max recall</td>\n",
       "<td>0.0981916</td>\n",
       "<td>1.0</td>\n",
       "<td>104.0</td></tr>\n",
       "<tr><td>max specificity</td>\n",
       "<td>0.9980830</td>\n",
       "<td>1.0</td>\n",
       "<td>0.0</td></tr>\n",
       "<tr><td>max absolute_mcc</td>\n",
       "<td>0.2938323</td>\n",
       "<td>0.4649980</td>\n",
       "<td>60.0</td></tr>\n",
       "<tr><td>max min_per_class_accuracy</td>\n",
       "<td>0.3836897</td>\n",
       "<td>0.7051282</td>\n",
       "<td>51.0</td></tr>\n",
       "<tr><td>max mean_per_class_accuracy</td>\n",
       "<td>0.2938323</td>\n",
       "<td>0.7435897</td>\n",
       "<td>60.0</td></tr></table></div>"
      ],
      "text/plain": [
       "metric                       threshold    value     idx\n",
       "---------------------------  -----------  --------  -----\n",
       "max f1                       0.293832     0.673077  60\n",
       "max f2                       0.214053     0.789474  77\n",
       "max f0point5                 0.548317     0.664557  27\n",
       "max accuracy                 0.548317     0.758333  27\n",
       "max precision                0.998083     1         0\n",
       "max recall                   0.0981916    1         104\n",
       "max specificity              0.998083     1         0\n",
       "max absolute_mcc             0.293832     0.464998  60\n",
       "max min_per_class_accuracy   0.38369      0.705128  51\n",
       "max mean_per_class_accuracy  0.293832     0.74359   60"
      ]
     },
     "metadata": {},
     "output_type": "display_data"
    },
    {
     "name": "stdout",
     "output_type": "stream",
     "text": [
      "Gains/Lift Table: Avg response rate: 35.00 %\n",
      "\n"
     ]
    },
    {
     "data": {
      "text/html": [
       "<div style=\"overflow:auto\"><table style=\"width:50%\"><tr><td><b></b></td>\n",
       "<td><b>group</b></td>\n",
       "<td><b>cumulative_data_fraction</b></td>\n",
       "<td><b>lower_threshold</b></td>\n",
       "<td><b>lift</b></td>\n",
       "<td><b>cumulative_lift</b></td>\n",
       "<td><b>response_rate</b></td>\n",
       "<td><b>cumulative_response_rate</b></td>\n",
       "<td><b>capture_rate</b></td>\n",
       "<td><b>cumulative_capture_rate</b></td>\n",
       "<td><b>gain</b></td>\n",
       "<td><b>cumulative_gain</b></td></tr>\n",
       "<tr><td></td>\n",
       "<td>1</td>\n",
       "<td>0.0166667</td>\n",
       "<td>0.9711541</td>\n",
       "<td>2.8571429</td>\n",
       "<td>2.8571429</td>\n",
       "<td>1.0</td>\n",
       "<td>1.0</td>\n",
       "<td>0.0476190</td>\n",
       "<td>0.0476190</td>\n",
       "<td>185.7142857</td>\n",
       "<td>185.7142857</td></tr>\n",
       "<tr><td></td>\n",
       "<td>2</td>\n",
       "<td>0.025</td>\n",
       "<td>0.9233955</td>\n",
       "<td>2.8571429</td>\n",
       "<td>2.8571429</td>\n",
       "<td>1.0</td>\n",
       "<td>1.0</td>\n",
       "<td>0.0238095</td>\n",
       "<td>0.0714286</td>\n",
       "<td>185.7142857</td>\n",
       "<td>185.7142857</td></tr>\n",
       "<tr><td></td>\n",
       "<td>3</td>\n",
       "<td>0.0333333</td>\n",
       "<td>0.9091811</td>\n",
       "<td>2.8571429</td>\n",
       "<td>2.8571429</td>\n",
       "<td>1.0</td>\n",
       "<td>1.0</td>\n",
       "<td>0.0238095</td>\n",
       "<td>0.0952381</td>\n",
       "<td>185.7142857</td>\n",
       "<td>185.7142857</td></tr>\n",
       "<tr><td></td>\n",
       "<td>4</td>\n",
       "<td>0.0416667</td>\n",
       "<td>0.8992416</td>\n",
       "<td>2.8571429</td>\n",
       "<td>2.8571429</td>\n",
       "<td>1.0</td>\n",
       "<td>1.0</td>\n",
       "<td>0.0238095</td>\n",
       "<td>0.1190476</td>\n",
       "<td>185.7142857</td>\n",
       "<td>185.7142857</td></tr>\n",
       "<tr><td></td>\n",
       "<td>5</td>\n",
       "<td>0.05</td>\n",
       "<td>0.8055963</td>\n",
       "<td>2.8571429</td>\n",
       "<td>2.8571429</td>\n",
       "<td>1.0</td>\n",
       "<td>1.0</td>\n",
       "<td>0.0238095</td>\n",
       "<td>0.1428571</td>\n",
       "<td>185.7142857</td>\n",
       "<td>185.7142857</td></tr>\n",
       "<tr><td></td>\n",
       "<td>6</td>\n",
       "<td>0.1</td>\n",
       "<td>0.7173722</td>\n",
       "<td>1.4285714</td>\n",
       "<td>2.1428571</td>\n",
       "<td>0.5</td>\n",
       "<td>0.75</td>\n",
       "<td>0.0714286</td>\n",
       "<td>0.2142857</td>\n",
       "<td>42.8571429</td>\n",
       "<td>114.2857143</td></tr>\n",
       "<tr><td></td>\n",
       "<td>7</td>\n",
       "<td>0.15</td>\n",
       "<td>0.6143368</td>\n",
       "<td>0.9523810</td>\n",
       "<td>1.7460317</td>\n",
       "<td>0.3333333</td>\n",
       "<td>0.6111111</td>\n",
       "<td>0.0476190</td>\n",
       "<td>0.2619048</td>\n",
       "<td>-4.7619048</td>\n",
       "<td>74.6031746</td></tr>\n",
       "<tr><td></td>\n",
       "<td>8</td>\n",
       "<td>0.2</td>\n",
       "<td>0.5608499</td>\n",
       "<td>2.8571429</td>\n",
       "<td>2.0238095</td>\n",
       "<td>1.0</td>\n",
       "<td>0.7083333</td>\n",
       "<td>0.1428571</td>\n",
       "<td>0.4047619</td>\n",
       "<td>185.7142857</td>\n",
       "<td>102.3809524</td></tr>\n",
       "<tr><td></td>\n",
       "<td>9</td>\n",
       "<td>0.3</td>\n",
       "<td>0.4921527</td>\n",
       "<td>1.6666667</td>\n",
       "<td>1.9047619</td>\n",
       "<td>0.5833333</td>\n",
       "<td>0.6666667</td>\n",
       "<td>0.1666667</td>\n",
       "<td>0.5714286</td>\n",
       "<td>66.6666667</td>\n",
       "<td>90.4761905</td></tr>\n",
       "<tr><td></td>\n",
       "<td>10</td>\n",
       "<td>0.4</td>\n",
       "<td>0.4148725</td>\n",
       "<td>0.7142857</td>\n",
       "<td>1.6071429</td>\n",
       "<td>0.25</td>\n",
       "<td>0.5625</td>\n",
       "<td>0.0714286</td>\n",
       "<td>0.6428571</td>\n",
       "<td>-28.5714286</td>\n",
       "<td>60.7142857</td></tr>\n",
       "<tr><td></td>\n",
       "<td>11</td>\n",
       "<td>0.5</td>\n",
       "<td>0.3046478</td>\n",
       "<td>1.4285714</td>\n",
       "<td>1.5714286</td>\n",
       "<td>0.5</td>\n",
       "<td>0.55</td>\n",
       "<td>0.1428571</td>\n",
       "<td>0.7857143</td>\n",
       "<td>42.8571429</td>\n",
       "<td>57.1428571</td></tr>\n",
       "<tr><td></td>\n",
       "<td>12</td>\n",
       "<td>0.6</td>\n",
       "<td>0.2430575</td>\n",
       "<td>0.7142857</td>\n",
       "<td>1.4285714</td>\n",
       "<td>0.25</td>\n",
       "<td>0.5</td>\n",
       "<td>0.0714286</td>\n",
       "<td>0.8571429</td>\n",
       "<td>-28.5714286</td>\n",
       "<td>42.8571429</td></tr>\n",
       "<tr><td></td>\n",
       "<td>13</td>\n",
       "<td>0.7</td>\n",
       "<td>0.2001067</td>\n",
       "<td>0.7142857</td>\n",
       "<td>1.3265306</td>\n",
       "<td>0.25</td>\n",
       "<td>0.4642857</td>\n",
       "<td>0.0714286</td>\n",
       "<td>0.9285714</td>\n",
       "<td>-28.5714286</td>\n",
       "<td>32.6530612</td></tr>\n",
       "<tr><td></td>\n",
       "<td>14</td>\n",
       "<td>0.8</td>\n",
       "<td>0.1457033</td>\n",
       "<td>0.2380952</td>\n",
       "<td>1.1904762</td>\n",
       "<td>0.0833333</td>\n",
       "<td>0.4166667</td>\n",
       "<td>0.0238095</td>\n",
       "<td>0.9523810</td>\n",
       "<td>-76.1904762</td>\n",
       "<td>19.0476190</td></tr>\n",
       "<tr><td></td>\n",
       "<td>15</td>\n",
       "<td>0.9</td>\n",
       "<td>0.0915625</td>\n",
       "<td>0.4761905</td>\n",
       "<td>1.1111111</td>\n",
       "<td>0.1666667</td>\n",
       "<td>0.3888889</td>\n",
       "<td>0.0476190</td>\n",
       "<td>1.0</td>\n",
       "<td>-52.3809524</td>\n",
       "<td>11.1111111</td></tr>\n",
       "<tr><td></td>\n",
       "<td>16</td>\n",
       "<td>1.0</td>\n",
       "<td>0.0301206</td>\n",
       "<td>0.0</td>\n",
       "<td>1.0</td>\n",
       "<td>0.0</td>\n",
       "<td>0.35</td>\n",
       "<td>0.0</td>\n",
       "<td>1.0</td>\n",
       "<td>-100.0</td>\n",
       "<td>0.0</td></tr></table></div>"
      ],
      "text/plain": [
       "    group    cumulative_data_fraction    lower_threshold    lift      cumulative_lift    response_rate    cumulative_response_rate    capture_rate    cumulative_capture_rate    gain      cumulative_gain\n",
       "--  -------  --------------------------  -----------------  --------  -----------------  ---------------  --------------------------  --------------  -------------------------  --------  -----------------\n",
       "    1        0.0166667                   0.971154           2.85714   2.85714            1                1                           0.047619        0.047619                   185.714   185.714\n",
       "    2        0.025                       0.923395           2.85714   2.85714            1                1                           0.0238095       0.0714286                  185.714   185.714\n",
       "    3        0.0333333                   0.909181           2.85714   2.85714            1                1                           0.0238095       0.0952381                  185.714   185.714\n",
       "    4        0.0416667                   0.899242           2.85714   2.85714            1                1                           0.0238095       0.119048                   185.714   185.714\n",
       "    5        0.05                        0.805596           2.85714   2.85714            1                1                           0.0238095       0.142857                   185.714   185.714\n",
       "    6        0.1                         0.717372           1.42857   2.14286            0.5              0.75                        0.0714286       0.214286                   42.8571   114.286\n",
       "    7        0.15                        0.614337           0.952381  1.74603            0.333333         0.611111                    0.047619        0.261905                   -4.7619   74.6032\n",
       "    8        0.2                         0.56085            2.85714   2.02381            1                0.708333                    0.142857        0.404762                   185.714   102.381\n",
       "    9        0.3                         0.492153           1.66667   1.90476            0.583333         0.666667                    0.166667        0.571429                   66.6667   90.4762\n",
       "    10       0.4                         0.414873           0.714286  1.60714            0.25             0.5625                      0.0714286       0.642857                   -28.5714  60.7143\n",
       "    11       0.5                         0.304648           1.42857   1.57143            0.5              0.55                        0.142857        0.785714                   42.8571   57.1429\n",
       "    12       0.6                         0.243057           0.714286  1.42857            0.25             0.5                         0.0714286       0.857143                   -28.5714  42.8571\n",
       "    13       0.7                         0.200107           0.714286  1.32653            0.25             0.464286                    0.0714286       0.928571                   -28.5714  32.6531\n",
       "    14       0.8                         0.145703           0.238095  1.19048            0.0833333        0.416667                    0.0238095       0.952381                   -76.1905  19.0476\n",
       "    15       0.9                         0.0915625          0.47619   1.11111            0.166667         0.388889                    0.047619        1                          -52.381   11.1111\n",
       "    16       1                           0.0301206          0         1                  0                0.35                        0               1                          -100      0"
      ]
     },
     "metadata": {},
     "output_type": "display_data"
    },
    {
     "name": "stdout",
     "output_type": "stream",
     "text": [
      "\n"
     ]
    }
   ],
   "source": [
    "# Show default performance metrics\n",
    "performance = prostate_glm.model_performance(test)\n",
    "performance.show()"
   ]
  },
  {
   "cell_type": "markdown",
   "metadata": {},
   "source": [
    "Question 1\n",
    "------------\n",
    "Please convert your demo for the iris data set. First we need to merge the input and the target into a data frame. In this assignment, we would like to predict the length of petal by using the length of sepal. "
   ]
  },
  {
   "cell_type": "code",
   "execution_count": 36,
   "metadata": {},
   "outputs": [
    {
     "name": "stdout",
     "output_type": "stream",
     "text": [
      "Parse progress: |█████████████████████████████████████████████████████████████████████████████| 100%\n"
     ]
    }
   ],
   "source": [
    "import pandas as pd\n",
    "iris_df=pd.DataFrame(X[:, [0,2]],columns=[iris.feature_names[0],iris.feature_names[2]])\n",
    "iris_h2o=h2o.H2OFrame(iris_df) "
   ]
  },
  {
   "cell_type": "code",
   "execution_count": 45,
   "metadata": {},
   "outputs": [
    {
     "data": {
      "text/html": [
       "<table>\n",
       "<tr><th>       </th><th>C1            </th><th>C2           </th></tr>\n",
       "<tr><td>type   </td><td>real          </td><td>real         </td></tr>\n",
       "<tr><td>mins   </td><td>4.3           </td><td>1.0          </td></tr>\n",
       "<tr><td>mean   </td><td>5.84333333333 </td><td>3.75866666667</td></tr>\n",
       "<tr><td>maxs   </td><td>7.9           </td><td>6.9          </td></tr>\n",
       "<tr><td>sigma  </td><td>0.828066127978</td><td>1.76442041995</td></tr>\n",
       "<tr><td>zeros  </td><td>0             </td><td>0            </td></tr>\n",
       "<tr><td>missing</td><td>0             </td><td>0            </td></tr>\n",
       "<tr><td>0      </td><td>5.1           </td><td>1.4          </td></tr>\n",
       "<tr><td>1      </td><td>4.9           </td><td>1.4          </td></tr>\n",
       "<tr><td>2      </td><td>4.7           </td><td>1.3          </td></tr>\n",
       "<tr><td>3      </td><td>4.6           </td><td>1.5          </td></tr>\n",
       "<tr><td>4      </td><td>5.0           </td><td>1.4          </td></tr>\n",
       "<tr><td>5      </td><td>5.4           </td><td>1.7          </td></tr>\n",
       "<tr><td>6      </td><td>4.6           </td><td>1.4          </td></tr>\n",
       "<tr><td>7      </td><td>5.0           </td><td>1.5          </td></tr>\n",
       "<tr><td>8      </td><td>4.4           </td><td>1.4          </td></tr>\n",
       "<tr><td>9      </td><td>4.9           </td><td>1.5          </td></tr>\n",
       "</table>"
      ]
     },
     "metadata": {},
     "output_type": "display_data"
    }
   ],
   "source": [
    "iris_h2o.summary()"
   ]
  },
  {
   "cell_type": "markdown",
   "metadata": {},
   "source": [
    "As we can see the colname of h2o data frame is lost, to get a better understand of your data frame you can reset the colnames."
   ]
  },
  {
   "cell_type": "code",
   "execution_count": 48,
   "metadata": {},
   "outputs": [
    {
     "data": {
      "text/html": [
       "<table>\n",
       "<tr><th>       </th><th>sepal length (cm)  </th><th>petal length (cm)  </th></tr>\n",
       "<tr><td>type   </td><td>real               </td><td>real               </td></tr>\n",
       "<tr><td>mins   </td><td>4.3                </td><td>1.0                </td></tr>\n",
       "<tr><td>mean   </td><td>5.84333333333      </td><td>3.75866666667      </td></tr>\n",
       "<tr><td>maxs   </td><td>7.9                </td><td>6.9                </td></tr>\n",
       "<tr><td>sigma  </td><td>0.828066127978     </td><td>1.76442041995      </td></tr>\n",
       "<tr><td>zeros  </td><td>0                  </td><td>0                  </td></tr>\n",
       "<tr><td>missing</td><td>0                  </td><td>0                  </td></tr>\n",
       "<tr><td>0      </td><td>5.1                </td><td>1.4                </td></tr>\n",
       "<tr><td>1      </td><td>4.9                </td><td>1.4                </td></tr>\n",
       "<tr><td>2      </td><td>4.7                </td><td>1.3                </td></tr>\n",
       "<tr><td>3      </td><td>4.6                </td><td>1.5                </td></tr>\n",
       "<tr><td>4      </td><td>5.0                </td><td>1.4                </td></tr>\n",
       "<tr><td>5      </td><td>5.4                </td><td>1.7                </td></tr>\n",
       "<tr><td>6      </td><td>4.6                </td><td>1.4                </td></tr>\n",
       "<tr><td>7      </td><td>5.0                </td><td>1.5                </td></tr>\n",
       "<tr><td>8      </td><td>4.4                </td><td>1.4                </td></tr>\n",
       "<tr><td>9      </td><td>4.9                </td><td>1.5                </td></tr>\n",
       "</table>"
      ]
     },
     "metadata": {},
     "output_type": "display_data"
    }
   ],
   "source": [
    "iris_h2o.set_names([iris.feature_names[0],iris.feature_names[2]])\n",
    "iris_h2o.summary()"
   ]
  },
  {
   "cell_type": "markdown",
   "metadata": {},
   "source": [
    "We note that our problem is a regression problem. \n",
    "Using help() to give a more details of the H2OGeneralizedLinearEstimator function."
   ]
  },
  {
   "cell_type": "code",
   "execution_count": 28,
   "metadata": {},
   "outputs": [],
   "source": [
    "#help(H2OGeneralizedLinearEstimator)"
   ]
  },
  {
   "cell_type": "code",
   "execution_count": null,
   "metadata": {},
   "outputs": [],
   "source": []
  },
  {
   "cell_type": "code",
   "execution_count": null,
   "metadata": {},
   "outputs": [],
   "source": []
  }
 ],
 "metadata": {
  "kernelspec": {
   "display_name": "Python 2",
   "language": "python",
   "name": "python2"
  },
  "language_info": {
   "codemirror_mode": {
    "name": "ipython",
    "version": 2
   },
   "file_extension": ".py",
   "mimetype": "text/x-python",
   "name": "python",
   "nbconvert_exporter": "python",
   "pygments_lexer": "ipython2",
   "version": "2.7.12"
  }
 },
 "nbformat": 4,
 "nbformat_minor": 1
}
